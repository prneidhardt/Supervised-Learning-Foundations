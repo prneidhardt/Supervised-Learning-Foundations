{
 "cells": [
  {
   "cell_type": "markdown",
   "metadata": {},
   "source": [
    "# Supervised Learning Foundations Project: ReCell"
   ]
  },
  {
   "cell_type": "markdown",
   "metadata": {},
   "source": [
    "## Context\n",
    "Buying and selling used smartphones used to be something that happened on a handful of online marketplace sites. But the used and refurbished phone market has grown considerably over the past decade, and a new IDC (International Data Corporation) forecast predicts that the used phone market would be worth $52.7bn by 2023 with a compound annual growth rate (CAGR) of 13.6% from 2018 to 2023. This growth can be attributed to an uptick in demand for used smartphones that offer considerable savings compared with new models.\n",
    "\n",
    "Refurbished and used devices continue to provide cost-effective alternatives to both consumers and businesses that are looking to save money when purchasing a smartphone. There are plenty of other benefits associated with the used smartphone market. Used and refurbished devices can be sold with warranties and can also be insured with proof of purchase. Third-party vendors/platforms, such as Verizon, Amazon, etc., provide attractive offers to customers for refurbished smartphones. Maximizing the longevity of mobile phones through second-hand trade also reduces their environmental impact and helps in recycling and reducing waste. The impact of the COVID-19 outbreak may further boost the cheaper refurbished smartphone segment, as consumers cut back on discretionary spending and buy phones only for immediate needs."
   ]
  },
  {
   "cell_type": "markdown",
   "metadata": {},
   "source": [
    "## Objective\n",
    "The rising potential of this comparatively under-the-radar market fuels the need for an ML-based solution to develop a dynamic pricing strategy for used and refurbished smartphones. ReCell, a startup aiming to tap the potential in this market, has hired you as a data scientist. They want you to analyze the data provided and build a linear regression model to predict the price of a used phone and identify factors that significantly influence this predicted price."
   ]
  },
  {
   "cell_type": "markdown",
   "metadata": {},
   "source": [
    "## Data Overview\n",
    "The data provided contains the different attributes of used/refurbished phones. The detailed data dictionary is given below.\n",
    "\n",
    "## Data Dictionary\n",
    "\n",
    "- brand_name: Name of manufacturing brand\n",
    "- os: OS on which the phone runs\n",
    "- screen_size: Size of the screen in cm\n",
    "- 4g: Whether 4G is available or not\n",
    "- 5g: Whether 5G is available or not\n",
    "- main_camera_mp: Resolution of the rear camera in megapixels\n",
    "- selfie_camera_mp: Resolution of the front camera in megapixels\n",
    "- int_memory: Amount of internal memory (ROM) in GB\n",
    "- ram: Amount of RAM in GB\n",
    "- battery: Energy capacity of the phone battery in mAh\n",
    "- weight: Weight of the phone in grams\n",
    "- release_year: Year when the phone model was released\n",
    "- days_used: Number of days the used/refurbished phone has been used\n",
    "- new_price: Price of a new phone of the same model in euros\n",
    "- used_price: Price of the used/refurbished phone in euros\n",
    "\n",
    "Further market research on smartphones manufactured from 2013-2020 is available at https://phonesdata.com/"
   ]
  },
  {
   "cell_type": "markdown",
   "metadata": {},
   "source": [
    "## Import all the required libraries"
   ]
  },
  {
   "cell_type": "code",
   "execution_count": 1,
   "metadata": {},
   "outputs": [],
   "source": [
    "# Libraries to help with reading and manipulating data\n",
    "import numpy as np\n",
    "import pandas as pd\n",
    "\n",
    "# Libraries to help with data visualization\n",
    "import matplotlib.pyplot as plt\n",
    "import seaborn as sns\n",
    "\n",
    "sns.set()\n",
    "\n",
    "# to split the data into train and test\n",
    "from sklearn.model_selection import train_test_split\n",
    "\n",
    "# to build linear regression_model\n",
    "from sklearn.linear_model import LinearRegression\n",
    "\n",
    "# to check model performance\n",
    "from sklearn.metrics import mean_absolute_error, mean_squared_error, r2_score\n",
    "\n",
    "#to scale continous variables, if necessary\n",
    "from sklearn.preprocessing import StandardScaler, MinMaxScaler\n",
    "\n",
    "# to build linear regression_model using statsmodels\n",
    "import statsmodels.api as sm"
   ]
  },
  {
   "cell_type": "markdown",
   "metadata": {},
   "source": [
    "## Importing Data"
   ]
  },
  {
   "cell_type": "code",
   "execution_count": 2,
   "metadata": {},
   "outputs": [],
   "source": [
    "#import csv into dataframe\n",
    "df = pd.read_csv('used_phone_data.csv')"
   ]
  },
  {
   "cell_type": "code",
   "execution_count": 3,
   "metadata": {},
   "outputs": [
    {
     "data": {
      "text/html": [
       "<div>\n",
       "<style scoped>\n",
       "    .dataframe tbody tr th:only-of-type {\n",
       "        vertical-align: middle;\n",
       "    }\n",
       "\n",
       "    .dataframe tbody tr th {\n",
       "        vertical-align: top;\n",
       "    }\n",
       "\n",
       "    .dataframe thead th {\n",
       "        text-align: right;\n",
       "    }\n",
       "</style>\n",
       "<table border=\"1\" class=\"dataframe\">\n",
       "  <thead>\n",
       "    <tr style=\"text-align: right;\">\n",
       "      <th></th>\n",
       "      <th>brand_name</th>\n",
       "      <th>os</th>\n",
       "      <th>screen_size</th>\n",
       "      <th>4g</th>\n",
       "      <th>5g</th>\n",
       "      <th>main_camera_mp</th>\n",
       "      <th>selfie_camera_mp</th>\n",
       "      <th>int_memory</th>\n",
       "      <th>ram</th>\n",
       "      <th>battery</th>\n",
       "      <th>weight</th>\n",
       "      <th>release_year</th>\n",
       "      <th>days_used</th>\n",
       "      <th>new_price</th>\n",
       "      <th>used_price</th>\n",
       "    </tr>\n",
       "  </thead>\n",
       "  <tbody>\n",
       "    <tr>\n",
       "      <th>0</th>\n",
       "      <td>Honor</td>\n",
       "      <td>Android</td>\n",
       "      <td>23.97</td>\n",
       "      <td>yes</td>\n",
       "      <td>no</td>\n",
       "      <td>13.0</td>\n",
       "      <td>5.0</td>\n",
       "      <td>64.0</td>\n",
       "      <td>3.0</td>\n",
       "      <td>3020.0</td>\n",
       "      <td>146.0</td>\n",
       "      <td>2020</td>\n",
       "      <td>127</td>\n",
       "      <td>111.62</td>\n",
       "      <td>86.96</td>\n",
       "    </tr>\n",
       "    <tr>\n",
       "      <th>1</th>\n",
       "      <td>Honor</td>\n",
       "      <td>Android</td>\n",
       "      <td>28.10</td>\n",
       "      <td>yes</td>\n",
       "      <td>yes</td>\n",
       "      <td>13.0</td>\n",
       "      <td>16.0</td>\n",
       "      <td>128.0</td>\n",
       "      <td>8.0</td>\n",
       "      <td>4300.0</td>\n",
       "      <td>213.0</td>\n",
       "      <td>2020</td>\n",
       "      <td>325</td>\n",
       "      <td>249.39</td>\n",
       "      <td>161.49</td>\n",
       "    </tr>\n",
       "    <tr>\n",
       "      <th>2</th>\n",
       "      <td>Honor</td>\n",
       "      <td>Android</td>\n",
       "      <td>24.29</td>\n",
       "      <td>yes</td>\n",
       "      <td>yes</td>\n",
       "      <td>13.0</td>\n",
       "      <td>8.0</td>\n",
       "      <td>128.0</td>\n",
       "      <td>8.0</td>\n",
       "      <td>4200.0</td>\n",
       "      <td>213.0</td>\n",
       "      <td>2020</td>\n",
       "      <td>162</td>\n",
       "      <td>359.47</td>\n",
       "      <td>268.55</td>\n",
       "    </tr>\n",
       "    <tr>\n",
       "      <th>3</th>\n",
       "      <td>Honor</td>\n",
       "      <td>Android</td>\n",
       "      <td>26.04</td>\n",
       "      <td>yes</td>\n",
       "      <td>yes</td>\n",
       "      <td>13.0</td>\n",
       "      <td>8.0</td>\n",
       "      <td>64.0</td>\n",
       "      <td>6.0</td>\n",
       "      <td>7250.0</td>\n",
       "      <td>480.0</td>\n",
       "      <td>2020</td>\n",
       "      <td>345</td>\n",
       "      <td>278.93</td>\n",
       "      <td>180.23</td>\n",
       "    </tr>\n",
       "    <tr>\n",
       "      <th>4</th>\n",
       "      <td>Honor</td>\n",
       "      <td>Android</td>\n",
       "      <td>15.72</td>\n",
       "      <td>yes</td>\n",
       "      <td>no</td>\n",
       "      <td>13.0</td>\n",
       "      <td>8.0</td>\n",
       "      <td>64.0</td>\n",
       "      <td>3.0</td>\n",
       "      <td>5000.0</td>\n",
       "      <td>185.0</td>\n",
       "      <td>2020</td>\n",
       "      <td>293</td>\n",
       "      <td>140.87</td>\n",
       "      <td>103.80</td>\n",
       "    </tr>\n",
       "  </tbody>\n",
       "</table>\n",
       "</div>"
      ],
      "text/plain": [
       "  brand_name       os  screen_size   4g   5g  main_camera_mp  \\\n",
       "0      Honor  Android        23.97  yes   no            13.0   \n",
       "1      Honor  Android        28.10  yes  yes            13.0   \n",
       "2      Honor  Android        24.29  yes  yes            13.0   \n",
       "3      Honor  Android        26.04  yes  yes            13.0   \n",
       "4      Honor  Android        15.72  yes   no            13.0   \n",
       "\n",
       "   selfie_camera_mp  int_memory  ram  battery  weight  release_year  \\\n",
       "0               5.0        64.0  3.0   3020.0   146.0          2020   \n",
       "1              16.0       128.0  8.0   4300.0   213.0          2020   \n",
       "2               8.0       128.0  8.0   4200.0   213.0          2020   \n",
       "3               8.0        64.0  6.0   7250.0   480.0          2020   \n",
       "4               8.0        64.0  3.0   5000.0   185.0          2020   \n",
       "\n",
       "   days_used  new_price  used_price  \n",
       "0        127     111.62       86.96  \n",
       "1        325     249.39      161.49  \n",
       "2        162     359.47      268.55  \n",
       "3        345     278.93      180.23  \n",
       "4        293     140.87      103.80  "
      ]
     },
     "execution_count": 3,
     "metadata": {},
     "output_type": "execute_result"
    }
   ],
   "source": [
    "#view the first five rows of the dataframe\n",
    "df.head(5)"
   ]
  },
  {
   "cell_type": "code",
   "execution_count": 4,
   "metadata": {},
   "outputs": [
    {
     "data": {
      "text/html": [
       "<div>\n",
       "<style scoped>\n",
       "    .dataframe tbody tr th:only-of-type {\n",
       "        vertical-align: middle;\n",
       "    }\n",
       "\n",
       "    .dataframe tbody tr th {\n",
       "        vertical-align: top;\n",
       "    }\n",
       "\n",
       "    .dataframe thead th {\n",
       "        text-align: right;\n",
       "    }\n",
       "</style>\n",
       "<table border=\"1\" class=\"dataframe\">\n",
       "  <thead>\n",
       "    <tr style=\"text-align: right;\">\n",
       "      <th></th>\n",
       "      <th>brand_name</th>\n",
       "      <th>os</th>\n",
       "      <th>screen_size</th>\n",
       "      <th>4g</th>\n",
       "      <th>5g</th>\n",
       "      <th>main_camera_mp</th>\n",
       "      <th>selfie_camera_mp</th>\n",
       "      <th>int_memory</th>\n",
       "      <th>ram</th>\n",
       "      <th>battery</th>\n",
       "      <th>weight</th>\n",
       "      <th>release_year</th>\n",
       "      <th>days_used</th>\n",
       "      <th>new_price</th>\n",
       "      <th>used_price</th>\n",
       "    </tr>\n",
       "  </thead>\n",
       "  <tbody>\n",
       "    <tr>\n",
       "      <th>3566</th>\n",
       "      <td>Asus</td>\n",
       "      <td>Android</td>\n",
       "      <td>15.88</td>\n",
       "      <td>yes</td>\n",
       "      <td>no</td>\n",
       "      <td>NaN</td>\n",
       "      <td>8.0</td>\n",
       "      <td>64.0</td>\n",
       "      <td>6.0</td>\n",
       "      <td>5000.0</td>\n",
       "      <td>190.0</td>\n",
       "      <td>2019</td>\n",
       "      <td>232</td>\n",
       "      <td>654.5000</td>\n",
       "      <td>490.96</td>\n",
       "    </tr>\n",
       "    <tr>\n",
       "      <th>3567</th>\n",
       "      <td>Asus</td>\n",
       "      <td>Android</td>\n",
       "      <td>15.24</td>\n",
       "      <td>yes</td>\n",
       "      <td>no</td>\n",
       "      <td>13.0</td>\n",
       "      <td>8.0</td>\n",
       "      <td>128.0</td>\n",
       "      <td>8.0</td>\n",
       "      <td>4000.0</td>\n",
       "      <td>200.0</td>\n",
       "      <td>2018</td>\n",
       "      <td>541</td>\n",
       "      <td>518.8145</td>\n",
       "      <td>259.30</td>\n",
       "    </tr>\n",
       "    <tr>\n",
       "      <th>3568</th>\n",
       "      <td>Alcatel</td>\n",
       "      <td>Android</td>\n",
       "      <td>18.73</td>\n",
       "      <td>yes</td>\n",
       "      <td>no</td>\n",
       "      <td>13.0</td>\n",
       "      <td>5.0</td>\n",
       "      <td>32.0</td>\n",
       "      <td>3.0</td>\n",
       "      <td>4000.0</td>\n",
       "      <td>165.0</td>\n",
       "      <td>2020</td>\n",
       "      <td>201</td>\n",
       "      <td>92.6500</td>\n",
       "      <td>69.81</td>\n",
       "    </tr>\n",
       "    <tr>\n",
       "      <th>3569</th>\n",
       "      <td>Alcatel</td>\n",
       "      <td>Android</td>\n",
       "      <td>18.73</td>\n",
       "      <td>yes</td>\n",
       "      <td>no</td>\n",
       "      <td>13.0</td>\n",
       "      <td>5.0</td>\n",
       "      <td>32.0</td>\n",
       "      <td>2.0</td>\n",
       "      <td>4000.0</td>\n",
       "      <td>160.0</td>\n",
       "      <td>2020</td>\n",
       "      <td>149</td>\n",
       "      <td>101.9150</td>\n",
       "      <td>76.07</td>\n",
       "    </tr>\n",
       "    <tr>\n",
       "      <th>3570</th>\n",
       "      <td>Alcatel</td>\n",
       "      <td>Android</td>\n",
       "      <td>13.49</td>\n",
       "      <td>yes</td>\n",
       "      <td>no</td>\n",
       "      <td>13.0</td>\n",
       "      <td>5.0</td>\n",
       "      <td>16.0</td>\n",
       "      <td>2.0</td>\n",
       "      <td>4000.0</td>\n",
       "      <td>168.0</td>\n",
       "      <td>2020</td>\n",
       "      <td>176</td>\n",
       "      <td>72.2415</td>\n",
       "      <td>50.48</td>\n",
       "    </tr>\n",
       "  </tbody>\n",
       "</table>\n",
       "</div>"
      ],
      "text/plain": [
       "     brand_name       os  screen_size   4g  5g  main_camera_mp  \\\n",
       "3566       Asus  Android        15.88  yes  no             NaN   \n",
       "3567       Asus  Android        15.24  yes  no            13.0   \n",
       "3568    Alcatel  Android        18.73  yes  no            13.0   \n",
       "3569    Alcatel  Android        18.73  yes  no            13.0   \n",
       "3570    Alcatel  Android        13.49  yes  no            13.0   \n",
       "\n",
       "      selfie_camera_mp  int_memory  ram  battery  weight  release_year  \\\n",
       "3566               8.0        64.0  6.0   5000.0   190.0          2019   \n",
       "3567               8.0       128.0  8.0   4000.0   200.0          2018   \n",
       "3568               5.0        32.0  3.0   4000.0   165.0          2020   \n",
       "3569               5.0        32.0  2.0   4000.0   160.0          2020   \n",
       "3570               5.0        16.0  2.0   4000.0   168.0          2020   \n",
       "\n",
       "      days_used  new_price  used_price  \n",
       "3566        232   654.5000      490.96  \n",
       "3567        541   518.8145      259.30  \n",
       "3568        201    92.6500       69.81  \n",
       "3569        149   101.9150       76.07  \n",
       "3570        176    72.2415       50.48  "
      ]
     },
     "execution_count": 4,
     "metadata": {},
     "output_type": "execute_result"
    }
   ],
   "source": [
    "#view the last five rows of the dataframe\n",
    "df.tail(5)"
   ]
  },
  {
   "cell_type": "code",
   "execution_count": 5,
   "metadata": {},
   "outputs": [
    {
     "data": {
      "text/plain": [
       "(3571, 15)"
      ]
     },
     "execution_count": 5,
     "metadata": {},
     "output_type": "execute_result"
    }
   ],
   "source": [
    "#understand the shape of the dataframe\n",
    "df.shape"
   ]
  },
  {
   "cell_type": "markdown",
   "metadata": {},
   "source": [
    "- The dataframe has 3751 rows and 15 columns"
   ]
  },
  {
   "cell_type": "markdown",
   "metadata": {},
   "source": [
    "## Data Preprocessing"
   ]
  },
  {
   "cell_type": "markdown",
   "metadata": {},
   "source": [
    "### Variable Identification and Conversion"
   ]
  },
  {
   "cell_type": "code",
   "execution_count": 6,
   "metadata": {},
   "outputs": [
    {
     "name": "stdout",
     "output_type": "stream",
     "text": [
      "<class 'pandas.core.frame.DataFrame'>\n",
      "RangeIndex: 3571 entries, 0 to 3570\n",
      "Data columns (total 15 columns):\n",
      " #   Column            Non-Null Count  Dtype  \n",
      "---  ------            --------------  -----  \n",
      " 0   brand_name        3571 non-null   object \n",
      " 1   os                3571 non-null   object \n",
      " 2   screen_size       3571 non-null   float64\n",
      " 3   4g                3571 non-null   object \n",
      " 4   5g                3571 non-null   object \n",
      " 5   main_camera_mp    3391 non-null   float64\n",
      " 6   selfie_camera_mp  3569 non-null   float64\n",
      " 7   int_memory        3561 non-null   float64\n",
      " 8   ram               3561 non-null   float64\n",
      " 9   battery           3565 non-null   float64\n",
      " 10  weight            3564 non-null   float64\n",
      " 11  release_year      3571 non-null   int64  \n",
      " 12  days_used         3571 non-null   int64  \n",
      " 13  new_price         3571 non-null   float64\n",
      " 14  used_price        3571 non-null   float64\n",
      "dtypes: float64(9), int64(2), object(4)\n",
      "memory usage: 418.6+ KB\n"
     ]
    }
   ],
   "source": [
    "#observe the data types of the columns for the dataframe\n",
    "df.info()"
   ]
  },
  {
   "cell_type": "markdown",
   "metadata": {},
   "source": [
    "- There are 4 columns of the dtype object, 9 columns of the dtype float64, and 2 columns of the dtype int64\n",
    "- Dependent variable is *used_price*"
   ]
  },
  {
   "cell_type": "code",
   "execution_count": 7,
   "metadata": {},
   "outputs": [
    {
     "data": {
      "text/plain": [
       "4g                     2\n",
       "5g                     2\n",
       "os                     4\n",
       "release_year           8\n",
       "ram                   14\n",
       "int_memory            16\n",
       "brand_name            34\n",
       "selfie_camera_mp      37\n",
       "main_camera_mp        44\n",
       "screen_size          127\n",
       "battery              354\n",
       "weight               613\n",
       "days_used            930\n",
       "used_price          3044\n",
       "new_price           3099\n",
       "dtype: int64"
      ]
     },
     "execution_count": 7,
     "metadata": {},
     "output_type": "execute_result"
    }
   ],
   "source": [
    "#number of unique values for each variable\n",
    "df.nunique().sort_values(ascending=True)"
   ]
  },
  {
   "cell_type": "code",
   "execution_count": 8,
   "metadata": {},
   "outputs": [
    {
     "name": "stdout",
     "output_type": "stream",
     "text": [
      "['Honor' 'Others' 'HTC' 'Huawei' 'Infinix' 'Lava' 'Lenovo' 'LG' 'Meizu'\n",
      " 'Micromax' 'Motorola' 'Nokia' 'OnePlus' 'Oppo' 'Realme' 'Samsung' 'Vivo'\n",
      " 'Xiaomi' 'ZTE' 'Apple' 'Asus' 'Coolpad' 'Acer' 'Alcatel' 'BlackBerry'\n",
      " 'Celkon' 'Gionee' 'Google' 'Karbonn' 'Microsoft' 'Panasonic' 'Sony'\n",
      " 'Spice' 'XOLO'] 34\n",
      "['Android' 'Others' 'iOS' 'Windows'] 4\n",
      "['yes' 'no'] 2\n",
      "['no' 'yes'] 2\n"
     ]
    }
   ],
   "source": [
    "#identify variables which should be converted from object to category\n",
    "for col in df.columns[df.dtypes=='object']:\n",
    "    print(df[col].unique(),df[col].nunique())"
   ]
  },
  {
   "cell_type": "markdown",
   "metadata": {},
   "source": [
    "- The column *brand_name* has 34 unique values, *os* has 4, and both *4g* and *5g* have 2\n",
    "- All columns with object dtype object should be converted to category, which will reduce the space required to store the DataFrame and help with analysis later on\n",
    "- 34 brand names is a large number of unique categories to differentiate during EDA"
   ]
  },
  {
   "cell_type": "code",
   "execution_count": 9,
   "metadata": {},
   "outputs": [],
   "source": [
    "#convert all columns with dtype object into category\n",
    "for col in df.columns[df.dtypes=='object']:\n",
    "    df[col] = df[col].astype('category')"
   ]
  },
  {
   "cell_type": "markdown",
   "metadata": {},
   "source": [
    "### Feature Engineering"
   ]
  },
  {
   "cell_type": "code",
   "execution_count": 10,
   "metadata": {
    "scrolled": false
   },
   "outputs": [
    {
     "name": "stdout",
     "output_type": "stream",
     "text": [
      "['Acer', 'Alcatel', 'Apple', 'Asus', 'BlackBerry', 'Celkon', 'Coolpad', 'Gionee', 'Google', 'HTC', 'Honor', 'Huawei', 'Infinix', 'Karbonn', 'LG', 'Lava', 'Lenovo', 'Meizu', 'Micromax', 'Microsoft', 'Motorola', 'Nokia', 'OnePlus', 'Oppo', 'Others', 'Panasonic', 'Realme', 'Samsung', 'Sony', 'Spice', 'Vivo', 'XOLO', 'Xiaomi', 'ZTE']\n"
     ]
    }
   ],
   "source": [
    "#Create categorical variable for each phone's country of origin\n",
    "#create alphabetical list of brand names\n",
    "countries = df.brand_name.unique()\n",
    "print(sorted(countries))"
   ]
  },
  {
   "cell_type": "code",
   "execution_count": 11,
   "metadata": {},
   "outputs": [],
   "source": [
    "#create dictionary with brand names as keys and country of origin as values\n",
    "country_of_brand = {'Honor':'China', 'Huawei':'China', 'Infinix':'China', 'Meizu':'China', 'Alcatel':'China', \n",
    "                  'Coolpad':'China', 'Gionee':'China', 'OnePlus':'China', \n",
    "                  'Oppo':'China', 'Vivo':'China', 'Xiaomi':'China', 'ZTE':'China', \n",
    "                  'HTC':'Taiwan', 'Acer':'Taiwan', 'Asus':'Taiwan',\n",
    "                  'Others':'None', 'Lava':'India', 'Micromax':'India', 'Celkon':'India', 'Karbonn':'India', 'Realme':'India',\n",
    "                  'Spice':'India', 'XOLO':'India', 'LG':'South Korea', 'Samsung':'South Korea', \n",
    "                  'Motorola':'USA', 'Apple':'USA', 'Google':'USA', 'Microsoft':'USA',\n",
    "                  'Nokia':'Finland', 'BlackBerry':'Canada', 'Lenovo':'Hong Kong', 'Panasonic':'Japan', 'Sony':'Japan'}"
   ]
  },
  {
   "cell_type": "code",
   "execution_count": 12,
   "metadata": {
    "scrolled": true
   },
   "outputs": [],
   "source": [
    "#create new variable in dataframe mapping country of origin onto each phone's brand name\n",
    "df['country_of_brand'] = df['brand_name'].map(country_of_brand).astype('category')"
   ]
  },
  {
   "cell_type": "code",
   "execution_count": 13,
   "metadata": {},
   "outputs": [
    {
     "name": "stdout",
     "output_type": "stream",
     "text": [
      "<class 'pandas.core.frame.DataFrame'>\n",
      "RangeIndex: 3571 entries, 0 to 3570\n",
      "Data columns (total 16 columns):\n",
      " #   Column            Non-Null Count  Dtype   \n",
      "---  ------            --------------  -----   \n",
      " 0   brand_name        3571 non-null   category\n",
      " 1   os                3571 non-null   category\n",
      " 2   screen_size       3571 non-null   float64 \n",
      " 3   4g                3571 non-null   category\n",
      " 4   5g                3571 non-null   category\n",
      " 5   main_camera_mp    3391 non-null   float64 \n",
      " 6   selfie_camera_mp  3569 non-null   float64 \n",
      " 7   int_memory        3561 non-null   float64 \n",
      " 8   ram               3561 non-null   float64 \n",
      " 9   battery           3565 non-null   float64 \n",
      " 10  weight            3564 non-null   float64 \n",
      " 11  release_year      3571 non-null   int64   \n",
      " 12  days_used         3571 non-null   int64   \n",
      " 13  new_price         3571 non-null   float64 \n",
      " 14  used_price        3571 non-null   float64 \n",
      " 15  country_of_brand  3571 non-null   category\n",
      "dtypes: category(5), float64(9), int64(2)\n",
      "memory usage: 326.6 KB\n"
     ]
    }
   ],
   "source": [
    "#confirm variable creation, dtype conversions and memory savings\n",
    "df.info()"
   ]
  },
  {
   "cell_type": "markdown",
   "metadata": {},
   "source": [
    "- Based on overview of columns with dtypes float64 and int64, these dtypes appear appropriate for the data contained in each respective column\n",
    "- Due to the unique information provided by each variable, no variables can be combined or altered to reduce the number of variables in the dataframe"
   ]
  },
  {
   "cell_type": "markdown",
   "metadata": {},
   "source": [
    "## Univariate Analysis"
   ]
  },
  {
   "cell_type": "code",
   "execution_count": 14,
   "metadata": {},
   "outputs": [],
   "source": [
    "# function to plot a boxplot and a histogram along the same scale\n",
    "\n",
    "def histogram_boxplot(data, feature, figsize=(16, 6), kde=False, bins=None):\n",
    "    \"\"\"\n",
    "    Combines boxplot and histogram\n",
    "\n",
    "    data: dataframe\n",
    "    feature: dataframe column\n",
    "    figsize: size of figure (default (16,6))\n",
    "    kde: whether to show the density curve (default False)\n",
    "    bins: number of bins for histogram (default None)\n",
    "    \"\"\"\n",
    "    f2, (ax_box2, ax_hist2) = plt.subplots(\n",
    "        nrows=2,  # Number of rows of the subplot grid= 2\n",
    "        sharex=True,  # x-axis will be shared among all subplots\n",
    "        gridspec_kw={\"height_ratios\": (0.25, 0.75)},\n",
    "        figsize=figsize,\n",
    "    )  # creating the 2 subplots\n",
    "    sns.boxplot(\n",
    "        data=data, x=feature, ax=ax_box2, showmeans=True, color=\"aqua\"\n",
    "    )  # boxplot will be created and a star will indicate the mean value of the column\n",
    "    sns.histplot(\n",
    "        data=data, x=feature, kde=kde, ax=ax_hist2, bins=bins, palette=\"winter\"\n",
    "    ) if bins else sns.histplot(\n",
    "        data=data, x=feature, kde=kde, ax=ax_hist2\n",
    "    )  # For histogram\n",
    "    ax_hist2.axvline(\n",
    "        data[feature].mean(), color=\"green\", linestyle=\"--\"\n",
    "    )  # Add mean to the histogram\n",
    "    ax_hist2.axvline(\n",
    "        data[feature].median(), color=\"black\", linestyle=\"-\"\n",
    "    )  # Add median to the histogram"
   ]
  },
  {
   "cell_type": "code",
   "execution_count": 15,
   "metadata": {},
   "outputs": [],
   "source": [
    "# function to create labeled barplots\n",
    "\n",
    "\n",
    "def labeled_barplot(data, feature, perc=False, n=None):\n",
    "    \"\"\"\n",
    "    Barplot with percentage at the top\n",
    "\n",
    "    data: dataframe\n",
    "    feature: dataframe column\n",
    "    perc: whether to display percentages instead of count (default is False)\n",
    "    n: displays the top n category levels (default is None, i.e., display all levels)\n",
    "    \"\"\"\n",
    "\n",
    "    total = len(data[feature])  # length of the column\n",
    "    count = data[feature].nunique()\n",
    "    if n is None:\n",
    "        plt.figure(figsize=(count + 1, 5))\n",
    "    else:\n",
    "        plt.figure(figsize=(n + 1, 5))\n",
    "\n",
    "    plt.xticks(rotation=90, fontsize=15)\n",
    "    ax = sns.countplot(\n",
    "        data=data,\n",
    "        x=feature,\n",
    "        palette='viridis',\n",
    "        order=data[feature].value_counts().index[:n].sort_values(),\n",
    "    )\n",
    "\n",
    "    for p in ax.patches:\n",
    "        if perc == True:\n",
    "            label = \"{:.1f}%\".format(\n",
    "                100 * p.get_height() / total\n",
    "            )  # percentage of each class of the category\n",
    "        else:\n",
    "            label = p.get_height()  # count of each level of the category\n",
    "\n",
    "        x = p.get_x() + p.get_width() / 2  # width of the plot\n",
    "        y = p.get_height()  # height of the plot\n",
    "\n",
    "        ax.annotate(\n",
    "            label,\n",
    "            (x, y),\n",
    "            ha=\"center\",\n",
    "            va=\"center\",\n",
    "            size=12,\n",
    "            xytext=(0, 5),\n",
    "            textcoords=\"offset points\"\n",
    "        )  # annotate the percentage\n",
    "\n",
    "    plt.show()  # show the plot"
   ]
  },
  {
   "cell_type": "code",
   "execution_count": 16,
   "metadata": {},
   "outputs": [],
   "source": [
    "#format numeric data for easier readability\n",
    "pd.set_option(\n",
    "    \"display.float_format\", lambda x: \"%.2f\" % x\n",
    ")  # to display numbers rounded off to 2 decimal places"
   ]
  },
  {
   "cell_type": "markdown",
   "metadata": {},
   "source": [
    "### Summary of categorical variables"
   ]
  },
  {
   "cell_type": "code",
   "execution_count": 17,
   "metadata": {
    "scrolled": false
   },
   "outputs": [
    {
     "data": {
      "text/html": [
       "<div>\n",
       "<style scoped>\n",
       "    .dataframe tbody tr th:only-of-type {\n",
       "        vertical-align: middle;\n",
       "    }\n",
       "\n",
       "    .dataframe tbody tr th {\n",
       "        vertical-align: top;\n",
       "    }\n",
       "\n",
       "    .dataframe thead th {\n",
       "        text-align: right;\n",
       "    }\n",
       "</style>\n",
       "<table border=\"1\" class=\"dataframe\">\n",
       "  <thead>\n",
       "    <tr style=\"text-align: right;\">\n",
       "      <th></th>\n",
       "      <th>count</th>\n",
       "      <th>unique</th>\n",
       "      <th>top</th>\n",
       "      <th>freq</th>\n",
       "    </tr>\n",
       "  </thead>\n",
       "  <tbody>\n",
       "    <tr>\n",
       "      <th>brand_name</th>\n",
       "      <td>3571</td>\n",
       "      <td>34</td>\n",
       "      <td>Others</td>\n",
       "      <td>509</td>\n",
       "    </tr>\n",
       "    <tr>\n",
       "      <th>os</th>\n",
       "      <td>3571</td>\n",
       "      <td>4</td>\n",
       "      <td>Android</td>\n",
       "      <td>3246</td>\n",
       "    </tr>\n",
       "    <tr>\n",
       "      <th>4g</th>\n",
       "      <td>3571</td>\n",
       "      <td>2</td>\n",
       "      <td>yes</td>\n",
       "      <td>2359</td>\n",
       "    </tr>\n",
       "    <tr>\n",
       "      <th>5g</th>\n",
       "      <td>3571</td>\n",
       "      <td>2</td>\n",
       "      <td>no</td>\n",
       "      <td>3419</td>\n",
       "    </tr>\n",
       "    <tr>\n",
       "      <th>country_of_brand</th>\n",
       "      <td>3571</td>\n",
       "      <td>10</td>\n",
       "      <td>China</td>\n",
       "      <td>1200</td>\n",
       "    </tr>\n",
       "  </tbody>\n",
       "</table>\n",
       "</div>"
      ],
      "text/plain": [
       "                 count unique      top  freq\n",
       "brand_name        3571     34   Others   509\n",
       "os                3571      4  Android  3246\n",
       "4g                3571      2      yes  2359\n",
       "5g                3571      2       no  3419\n",
       "country_of_brand  3571     10    China  1200"
      ]
     },
     "execution_count": 17,
     "metadata": {},
     "output_type": "execute_result"
    }
   ],
   "source": [
    "df.describe(include = ['category']).T"
   ]
  },
  {
   "cell_type": "code",
   "execution_count": 18,
   "metadata": {
    "scrolled": true
   },
   "outputs": [
    {
     "name": "stdout",
     "output_type": "stream",
     "text": [
      "\n",
      "\n",
      "Others     509\n",
      "Samsung    364\n",
      "Huawei     264\n",
      "LG         212\n",
      "Lenovo     172\n",
      "ZTE        141\n",
      "Xiaomi     134\n",
      "Oppo       129\n",
      "Asus       126\n",
      "Alcatel    125\n",
      "Name: brand_name, dtype: int64\n",
      "Only displaying first 10 of 34 values.\n",
      "\n",
      "\n",
      "Android    3246\n",
      "Others      202\n",
      "Windows      67\n",
      "iOS          56\n",
      "Name: os, dtype: int64\n",
      "\n",
      "\n",
      "yes    2359\n",
      "no     1212\n",
      "Name: 4g, dtype: int64\n",
      "\n",
      "\n",
      "no     3419\n",
      "yes     152\n",
      "Name: 5g, dtype: int64\n",
      "\n",
      "\n",
      "China          1200\n",
      "South Korea     576\n",
      "None            509\n",
      "India           343\n",
      "Taiwan          287\n",
      "USA             206\n",
      "Hong Kong       172\n",
      "Japan           135\n",
      "Finland         121\n",
      "Canada           22\n",
      "Name: country_of_brand, dtype: int64\n",
      "\n",
      "\n"
     ]
    }
   ],
   "source": [
    "num_to_display = 10\n",
    "print('\\n')\n",
    "for colname in df.dtypes[df.dtypes == 'category'].index:\n",
    "    val_counts = df[colname].value_counts(dropna=False)\n",
    "    print(val_counts[:num_to_display])\n",
    "    if len(val_counts) > num_to_display:\n",
    "        print(f'Only displaying first {num_to_display} of {len(val_counts)} values.')\n",
    "    print('\\n')"
   ]
  },
  {
   "cell_type": "code",
   "execution_count": 19,
   "metadata": {
    "scrolled": false
   },
   "outputs": [
    {
     "data": {
      "image/png": "[encoded data removed]",
      "text/plain": [
       "<Figure size 792x360 with 1 Axes>"
      ]
     },
     "metadata": {},
     "output_type": "display_data"
    }
   ],
   "source": [
    "#create labeled barplot of phones by the country of the brand\n",
    "labeled_barplot(df,'country_of_brand',perc=True)"
   ]
  },
  {
   "cell_type": "markdown",
   "metadata": {},
   "source": [
    "- The top five brand names in the dataframe are Others (likely a \"catch-all\" value for a phone of an undetermined brand), Samsung, Huawei, LG, and Lenovo, which comprise ~43% of all phones\n",
    "- Phones with an Android OS comprise ~91% of all phones\n",
    "- 2359 of the phones are 4g capable, only 152 of the phones are 5g capable, and the remaining 72% of all phones have neither\n",
    "- The top two countries of brands are China and South Korea, with 1200 (33%) of the phones being manufactured by Chinese brands and 576 (16%) being manufactured by South Korean brands"
   ]
  },
  {
   "cell_type": "markdown",
   "metadata": {},
   "source": [
    "### Summary of float64 variables"
   ]
  },
  {
   "cell_type": "code",
   "execution_count": 20,
   "metadata": {},
   "outputs": [
    {
     "data": {
      "text/html": [
       "<div>\n",
       "<style scoped>\n",
       "    .dataframe tbody tr th:only-of-type {\n",
       "        vertical-align: middle;\n",
       "    }\n",
       "\n",
       "    .dataframe tbody tr th {\n",
       "        vertical-align: top;\n",
       "    }\n",
       "\n",
       "    .dataframe thead th {\n",
       "        text-align: right;\n",
       "    }\n",
       "</style>\n",
       "<table border=\"1\" class=\"dataframe\">\n",
       "  <thead>\n",
       "    <tr style=\"text-align: right;\">\n",
       "      <th></th>\n",
       "      <th>count</th>\n",
       "      <th>mean</th>\n",
       "      <th>std</th>\n",
       "      <th>min</th>\n",
       "      <th>25%</th>\n",
       "      <th>50%</th>\n",
       "      <th>75%</th>\n",
       "      <th>max</th>\n",
       "    </tr>\n",
       "  </thead>\n",
       "  <tbody>\n",
       "    <tr>\n",
       "      <th>screen_size</th>\n",
       "      <td>3571.00</td>\n",
       "      <td>14.80</td>\n",
       "      <td>5.15</td>\n",
       "      <td>2.70</td>\n",
       "      <td>12.70</td>\n",
       "      <td>13.49</td>\n",
       "      <td>16.51</td>\n",
       "      <td>46.36</td>\n",
       "    </tr>\n",
       "    <tr>\n",
       "      <th>main_camera_mp</th>\n",
       "      <td>3391.00</td>\n",
       "      <td>9.40</td>\n",
       "      <td>4.82</td>\n",
       "      <td>0.08</td>\n",
       "      <td>5.00</td>\n",
       "      <td>8.00</td>\n",
       "      <td>13.00</td>\n",
       "      <td>48.00</td>\n",
       "    </tr>\n",
       "    <tr>\n",
       "      <th>selfie_camera_mp</th>\n",
       "      <td>3569.00</td>\n",
       "      <td>6.55</td>\n",
       "      <td>6.88</td>\n",
       "      <td>0.30</td>\n",
       "      <td>2.00</td>\n",
       "      <td>5.00</td>\n",
       "      <td>8.00</td>\n",
       "      <td>32.00</td>\n",
       "    </tr>\n",
       "    <tr>\n",
       "      <th>int_memory</th>\n",
       "      <td>3561.00</td>\n",
       "      <td>54.53</td>\n",
       "      <td>84.70</td>\n",
       "      <td>0.01</td>\n",
       "      <td>16.00</td>\n",
       "      <td>32.00</td>\n",
       "      <td>64.00</td>\n",
       "      <td>1024.00</td>\n",
       "    </tr>\n",
       "    <tr>\n",
       "      <th>ram</th>\n",
       "      <td>3561.00</td>\n",
       "      <td>4.06</td>\n",
       "      <td>1.39</td>\n",
       "      <td>0.03</td>\n",
       "      <td>4.00</td>\n",
       "      <td>4.00</td>\n",
       "      <td>4.00</td>\n",
       "      <td>16.00</td>\n",
       "    </tr>\n",
       "    <tr>\n",
       "      <th>battery</th>\n",
       "      <td>3565.00</td>\n",
       "      <td>3067.23</td>\n",
       "      <td>1364.21</td>\n",
       "      <td>80.00</td>\n",
       "      <td>2100.00</td>\n",
       "      <td>3000.00</td>\n",
       "      <td>4000.00</td>\n",
       "      <td>12000.00</td>\n",
       "    </tr>\n",
       "    <tr>\n",
       "      <th>weight</th>\n",
       "      <td>3564.00</td>\n",
       "      <td>179.42</td>\n",
       "      <td>90.28</td>\n",
       "      <td>23.00</td>\n",
       "      <td>140.00</td>\n",
       "      <td>159.00</td>\n",
       "      <td>184.00</td>\n",
       "      <td>950.00</td>\n",
       "    </tr>\n",
       "    <tr>\n",
       "      <th>new_price</th>\n",
       "      <td>3571.00</td>\n",
       "      <td>237.39</td>\n",
       "      <td>197.55</td>\n",
       "      <td>9.13</td>\n",
       "      <td>120.13</td>\n",
       "      <td>189.80</td>\n",
       "      <td>291.94</td>\n",
       "      <td>2560.20</td>\n",
       "    </tr>\n",
       "    <tr>\n",
       "      <th>used_price</th>\n",
       "      <td>3571.00</td>\n",
       "      <td>109.88</td>\n",
       "      <td>121.50</td>\n",
       "      <td>2.51</td>\n",
       "      <td>45.20</td>\n",
       "      <td>75.53</td>\n",
       "      <td>126.00</td>\n",
       "      <td>1916.54</td>\n",
       "    </tr>\n",
       "  </tbody>\n",
       "</table>\n",
       "</div>"
      ],
      "text/plain": [
       "                   count    mean     std   min     25%     50%     75%  \\\n",
       "screen_size      3571.00   14.80    5.15  2.70   12.70   13.49   16.51   \n",
       "main_camera_mp   3391.00    9.40    4.82  0.08    5.00    8.00   13.00   \n",
       "selfie_camera_mp 3569.00    6.55    6.88  0.30    2.00    5.00    8.00   \n",
       "int_memory       3561.00   54.53   84.70  0.01   16.00   32.00   64.00   \n",
       "ram              3561.00    4.06    1.39  0.03    4.00    4.00    4.00   \n",
       "battery          3565.00 3067.23 1364.21 80.00 2100.00 3000.00 4000.00   \n",
       "weight           3564.00  179.42   90.28 23.00  140.00  159.00  184.00   \n",
       "new_price        3571.00  237.39  197.55  9.13  120.13  189.80  291.94   \n",
       "used_price       3571.00  109.88  121.50  2.51   45.20   75.53  126.00   \n",
       "\n",
       "                      max  \n",
       "screen_size         46.36  \n",
       "main_camera_mp      48.00  \n",
       "selfie_camera_mp    32.00  \n",
       "int_memory        1024.00  \n",
       "ram                 16.00  \n",
       "battery          12000.00  \n",
       "weight             950.00  \n",
       "new_price         2560.20  \n",
       "used_price        1916.54  "
      ]
     },
     "execution_count": 20,
     "metadata": {},
     "output_type": "execute_result"
    }
   ],
   "source": [
    "#provide summary statistics of all float64 variables\n",
    "df.describe(include = ['float64']).T"
   ]
  },
  {
   "cell_type": "markdown",
   "metadata": {},
   "source": [
    "**Screen size analysis**"
   ]
  },
  {
   "cell_type": "code",
   "execution_count": 21,
   "metadata": {
    "scrolled": false
   },
   "outputs": [
    {
     "data": {
      "image/png": "[encoded data removed]",
      "text/plain": [
       "<Figure size 1152x432 with 2 Axes>"
      ]
     },
     "metadata": {},
     "output_type": "display_data"
    }
   ],
   "source": [
    "#provide boxplots and histograms of screen size\n",
    "histogram_boxplot(df, 'screen_size')"
   ]
  },
  {
   "cell_type": "markdown",
   "metadata": {
    "id": "8ryjWu4PqH0v"
   },
   "source": [
    "- *Screen-size* is right skewed\n",
    "- Outliers to the right indicate very large screens (~30 cm = 1 ft)\n",
    "- Mean screen size is around 14.8 cm"
   ]
  },
  {
   "cell_type": "markdown",
   "metadata": {},
   "source": [
    "**Main camera & \"Selfie camera\" (i.e. front camera) analysis**"
   ]
  },
  {
   "cell_type": "code",
   "execution_count": 22,
   "metadata": {},
   "outputs": [
    {
     "data": {
      "image/png": "[encoded data removed]",
      "text/plain": [
       "<Figure size 1152x432 with 2 Axes>"
      ]
     },
     "metadata": {},
     "output_type": "display_data"
    }
   ],
   "source": [
    "histogram_boxplot(df, 'main_camera_mp')"
   ]
  },
  {
   "cell_type": "code",
   "execution_count": 23,
   "metadata": {},
   "outputs": [
    {
     "data": {
      "image/png": "[encoded data removed]",
      "text/plain": [
       "<Figure size 1152x432 with 2 Axes>"
      ]
     },
     "metadata": {},
     "output_type": "display_data"
    }
   ],
   "source": [
    "histogram_boxplot(df, 'selfie_camera_mp')"
   ]
  },
  {
   "cell_type": "markdown",
   "metadata": {},
   "source": [
    "- Both distributions are right skewed\n",
    "- Outliers to the right indicate very high resolution cameras\n",
    "- The mean megapixels (MP) for the main camera and front camera is 9 MP and 6 MP, respectively\n",
    "- Market research shows that outliers for both main and front cameras are consistent with those available on smartphones released from 2013-2020"
   ]
  },
  {
   "cell_type": "markdown",
   "metadata": {},
   "source": [
    "**Read-only memory (ROM) & random-access memory (RAM) analysis**"
   ]
  },
  {
   "cell_type": "code",
   "execution_count": 24,
   "metadata": {},
   "outputs": [
    {
     "data": {
      "image/png": "[encoded data removed]",
      "text/plain": [
       "<Figure size 1152x432 with 2 Axes>"
      ]
     },
     "metadata": {},
     "output_type": "display_data"
    }
   ],
   "source": [
    "histogram_boxplot(df, 'int_memory')"
   ]
  },
  {
   "cell_type": "code",
   "execution_count": 25,
   "metadata": {
    "scrolled": false
   },
   "outputs": [
    {
     "data": {
      "image/png": "[encoded data removed]",
      "text/plain": [
       "<Figure size 1152x432 with 2 Axes>"
      ]
     },
     "metadata": {},
     "output_type": "display_data"
    }
   ],
   "source": [
    "histogram_boxplot(df, 'ram')"
   ]
  },
  {
   "cell_type": "markdown",
   "metadata": {},
   "source": [
    "- Both distributions are right skewed\n",
    "- Outliers to the right indicate phones with very large amounts of internal memory (i.e. read-only memory (ROM)) and random access memory (RAM)\n",
    "- The mean amounts of ROM and RAM are 55GB and 4GB, respectively\n",
    "- Market research shows that outliers for both ROM and RAM are consistent with those avaiable on smartphones released from 2013-2020"
   ]
  },
  {
   "cell_type": "markdown",
   "metadata": {},
   "source": [
    "**Weight analysis**"
   ]
  },
  {
   "cell_type": "code",
   "execution_count": 26,
   "metadata": {},
   "outputs": [
    {
     "data": {
      "image/png": "[encoded data removed]",
      "text/plain": [
       "<Figure size 1152x432 with 2 Axes>"
      ]
     },
     "metadata": {},
     "output_type": "display_data"
    }
   ],
   "source": [
    "histogram_boxplot(df, 'weight')"
   ]
  },
  {
   "cell_type": "markdown",
   "metadata": {},
   "source": [
    "- Distribution is heavily right skewed\n",
    "- Outliers to the right indicate very heavy phones (~450g = 1 lb)\n",
    "- The mean weight is ~180g"
   ]
  },
  {
   "cell_type": "markdown",
   "metadata": {},
   "source": [
    "**Battery analysis**"
   ]
  },
  {
   "cell_type": "code",
   "execution_count": 27,
   "metadata": {
    "scrolled": false
   },
   "outputs": [
    {
     "data": {
      "image/png": "[encoded data removed]",
      "text/plain": [
       "<Figure size 1152x432 with 2 Axes>"
      ]
     },
     "metadata": {},
     "output_type": "display_data"
    }
   ],
   "source": [
    "histogram_boxplot(df, 'battery')"
   ]
  },
  {
   "cell_type": "markdown",
   "metadata": {},
   "source": [
    "- Distribution is right skewed\n",
    "- Outliers to the right indicate phones with very large batteries\n",
    "- The mean battery is ~3000 mAh\n",
    "- Market research shows that outliers for the battery size are consistent with those avaiable on smartphones released from 2013-2020"
   ]
  },
  {
   "cell_type": "markdown",
   "metadata": {},
   "source": [
    "**New price analysis**"
   ]
  },
  {
   "cell_type": "code",
   "execution_count": 28,
   "metadata": {},
   "outputs": [
    {
     "data": {
      "image/png": "[encoded data removed]",
      "text/plain": [
       "<Figure size 1152x432 with 2 Axes>"
      ]
     },
     "metadata": {},
     "output_type": "display_data"
    }
   ],
   "source": [
    "histogram_boxplot(df, 'new_price')"
   ]
  },
  {
   "cell_type": "markdown",
   "metadata": {},
   "source": [
    "- Distribution is heavily right skewed\n",
    "- Outliers to the right indicate very expensive new phones\n",
    "- The mean new price is 237 euros"
   ]
  },
  {
   "cell_type": "markdown",
   "metadata": {},
   "source": [
    "**Used price analysis**"
   ]
  },
  {
   "cell_type": "code",
   "execution_count": 29,
   "metadata": {
    "scrolled": false
   },
   "outputs": [
    {
     "data": {
      "image/png": "[encoded data removed]",
      "text/plain": [
       "<Figure size 1152x432 with 2 Axes>"
      ]
     },
     "metadata": {},
     "output_type": "display_data"
    }
   ],
   "source": [
    "histogram_boxplot(df, 'used_price')"
   ]
  },
  {
   "cell_type": "markdown",
   "metadata": {},
   "source": [
    "- Distribution is heavily right skewed\n",
    "- Outliers to the right indicate very expensive used phones\n",
    "- The mean used price is 110 euros"
   ]
  },
  {
   "cell_type": "markdown",
   "metadata": {},
   "source": [
    "### Summary of int64 variables"
   ]
  },
  {
   "cell_type": "code",
   "execution_count": 30,
   "metadata": {},
   "outputs": [
    {
     "data": {
      "image/png": "[encoded data removed]",
      "text/plain": [
       "<Figure size 1152x432 with 2 Axes>"
      ]
     },
     "metadata": {},
     "output_type": "display_data"
    },
    {
     "data": {
      "image/png": "[encoded data removed]",
      "text/plain": [
       "<Figure size 1152x432 with 2 Axes>"
      ]
     },
     "metadata": {},
     "output_type": "display_data"
    }
   ],
   "source": [
    "#provide boxplots and histograms of int64 variables\n",
    "for col in df.columns[df.dtypes == 'int64']:\n",
    "    histogram_boxplot(df, col)"
   ]
  },
  {
   "cell_type": "code",
   "execution_count": 31,
   "metadata": {},
   "outputs": [
    {
     "data": {
      "text/html": [
       "<div>\n",
       "<style scoped>\n",
       "    .dataframe tbody tr th:only-of-type {\n",
       "        vertical-align: middle;\n",
       "    }\n",
       "\n",
       "    .dataframe tbody tr th {\n",
       "        vertical-align: top;\n",
       "    }\n",
       "\n",
       "    .dataframe thead th {\n",
       "        text-align: right;\n",
       "    }\n",
       "</style>\n",
       "<table border=\"1\" class=\"dataframe\">\n",
       "  <thead>\n",
       "    <tr style=\"text-align: right;\">\n",
       "      <th></th>\n",
       "      <th>count</th>\n",
       "      <th>mean</th>\n",
       "      <th>std</th>\n",
       "      <th>min</th>\n",
       "      <th>25%</th>\n",
       "      <th>50%</th>\n",
       "      <th>75%</th>\n",
       "      <th>max</th>\n",
       "    </tr>\n",
       "  </thead>\n",
       "  <tbody>\n",
       "    <tr>\n",
       "      <th>release_year</th>\n",
       "      <td>3571.00</td>\n",
       "      <td>2015.96</td>\n",
       "      <td>2.29</td>\n",
       "      <td>2013.00</td>\n",
       "      <td>2014.00</td>\n",
       "      <td>2016.00</td>\n",
       "      <td>2018.00</td>\n",
       "      <td>2020.00</td>\n",
       "    </tr>\n",
       "    <tr>\n",
       "      <th>days_used</th>\n",
       "      <td>3571.00</td>\n",
       "      <td>675.39</td>\n",
       "      <td>248.64</td>\n",
       "      <td>91.00</td>\n",
       "      <td>536.00</td>\n",
       "      <td>690.00</td>\n",
       "      <td>872.00</td>\n",
       "      <td>1094.00</td>\n",
       "    </tr>\n",
       "  </tbody>\n",
       "</table>\n",
       "</div>"
      ],
      "text/plain": [
       "               count    mean    std     min     25%     50%     75%     max\n",
       "release_year 3571.00 2015.96   2.29 2013.00 2014.00 2016.00 2018.00 2020.00\n",
       "days_used    3571.00  675.39 248.64   91.00  536.00  690.00  872.00 1094.00"
      ]
     },
     "execution_count": 31,
     "metadata": {},
     "output_type": "execute_result"
    }
   ],
   "source": [
    "#provide summary statistics of all continuous variables\n",
    "df.describe(include = ['int64']).T"
   ]
  },
  {
   "cell_type": "markdown",
   "metadata": {},
   "source": [
    "- Phones in the dataframe were released between 2013 and 2020\n",
    "- Half the phones were released prior to 2016\n",
    "- Phones were used between 91 and 1094 (3 years) days prior to being resold\n",
    "- The distribution for days used is left skewed\n",
    "- The mean days used is 675 (~1.8 years)"
   ]
  },
  {
   "cell_type": "markdown",
   "metadata": {},
   "source": [
    "### Missing values"
   ]
  },
  {
   "cell_type": "code",
   "execution_count": 32,
   "metadata": {
    "scrolled": true
   },
   "outputs": [
    {
     "data": {
      "text/plain": [
       "main_camera_mp      180\n",
       "int_memory           10\n",
       "ram                  10\n",
       "weight                7\n",
       "battery               6\n",
       "selfie_camera_mp      2\n",
       "brand_name            0\n",
       "os                    0\n",
       "screen_size           0\n",
       "4g                    0\n",
       "5g                    0\n",
       "release_year          0\n",
       "days_used             0\n",
       "new_price             0\n",
       "used_price            0\n",
       "country_of_brand      0\n",
       "dtype: int64"
      ]
     },
     "execution_count": 32,
     "metadata": {},
     "output_type": "execute_result"
    }
   ],
   "source": [
    "#identify the columns with missing values\n",
    "df.isna().sum().sort_values(ascending=False)"
   ]
  },
  {
   "cell_type": "markdown",
   "metadata": {},
   "source": [
    "- There are 6 columns with missing values, of which *main_camera_mp* has 180, *ram* and *int_memory* have 10, *weight* has 7, *battery* has 6, and *selfie_camera_mp* has only 2\n",
    "- The remaining 9 columns, which importantly includes our dependent variable *used_price*, have no missing values\n",
    "- Further analysis is required before deciding on how to replace or remove missing values within each column, but the number of rows with null values is fortunately very small compared to the total number of observations"
   ]
  },
  {
   "cell_type": "code",
   "execution_count": 33,
   "metadata": {},
   "outputs": [
    {
     "data": {
      "text/plain": [
       "(203, 16)"
      ]
     },
     "execution_count": 33,
     "metadata": {},
     "output_type": "execute_result"
    }
   ],
   "source": [
    "#create new dataframe of rows which include any null values, then sample rows to analyze non-null data provided within rows\n",
    "is_NaN = df.isnull().any(axis=1)\n",
    "df_null = df[is_NaN]\n",
    "df_null.shape"
   ]
  },
  {
   "cell_type": "markdown",
   "metadata": {},
   "source": [
    "- The dataframe has 203 rows containing at least one column with a null value"
   ]
  },
  {
   "cell_type": "code",
   "execution_count": 34,
   "metadata": {},
   "outputs": [
    {
     "data": {
      "text/html": [
       "<div>\n",
       "<style scoped>\n",
       "    .dataframe tbody tr th:only-of-type {\n",
       "        vertical-align: middle;\n",
       "    }\n",
       "\n",
       "    .dataframe tbody tr th {\n",
       "        vertical-align: top;\n",
       "    }\n",
       "\n",
       "    .dataframe thead th {\n",
       "        text-align: right;\n",
       "    }\n",
       "</style>\n",
       "<table border=\"1\" class=\"dataframe\">\n",
       "  <thead>\n",
       "    <tr style=\"text-align: right;\">\n",
       "      <th></th>\n",
       "      <th>brand_name</th>\n",
       "      <th>os</th>\n",
       "      <th>screen_size</th>\n",
       "      <th>4g</th>\n",
       "      <th>5g</th>\n",
       "      <th>main_camera_mp</th>\n",
       "      <th>selfie_camera_mp</th>\n",
       "      <th>int_memory</th>\n",
       "      <th>ram</th>\n",
       "      <th>battery</th>\n",
       "      <th>weight</th>\n",
       "      <th>release_year</th>\n",
       "      <th>days_used</th>\n",
       "      <th>new_price</th>\n",
       "      <th>used_price</th>\n",
       "      <th>country_of_brand</th>\n",
       "    </tr>\n",
       "  </thead>\n",
       "  <tbody>\n",
       "    <tr>\n",
       "      <th>3480</th>\n",
       "      <td>Meizu</td>\n",
       "      <td>Android</td>\n",
       "      <td>16.19</td>\n",
       "      <td>yes</td>\n",
       "      <td>yes</td>\n",
       "      <td>NaN</td>\n",
       "      <td>20.00</td>\n",
       "      <td>128.00</td>\n",
       "      <td>8.00</td>\n",
       "      <td>4500.00</td>\n",
       "      <td>219.00</td>\n",
       "      <td>2020</td>\n",
       "      <td>139</td>\n",
       "      <td>600.09</td>\n",
       "      <td>451.07</td>\n",
       "      <td>China</td>\n",
       "    </tr>\n",
       "    <tr>\n",
       "      <th>3481</th>\n",
       "      <td>Motorola</td>\n",
       "      <td>Android</td>\n",
       "      <td>15.88</td>\n",
       "      <td>yes</td>\n",
       "      <td>no</td>\n",
       "      <td>NaN</td>\n",
       "      <td>8.00</td>\n",
       "      <td>32.00</td>\n",
       "      <td>3.00</td>\n",
       "      <td>4000.00</td>\n",
       "      <td>189.40</td>\n",
       "      <td>2020</td>\n",
       "      <td>101</td>\n",
       "      <td>169.99</td>\n",
       "      <td>125.64</td>\n",
       "      <td>USA</td>\n",
       "    </tr>\n",
       "    <tr>\n",
       "      <th>126</th>\n",
       "      <td>Oppo</td>\n",
       "      <td>Android</td>\n",
       "      <td>23.97</td>\n",
       "      <td>yes</td>\n",
       "      <td>yes</td>\n",
       "      <td>NaN</td>\n",
       "      <td>32.00</td>\n",
       "      <td>128.00</td>\n",
       "      <td>8.00</td>\n",
       "      <td>4000.00</td>\n",
       "      <td>172.00</td>\n",
       "      <td>2020</td>\n",
       "      <td>187</td>\n",
       "      <td>470.34</td>\n",
       "      <td>356.01</td>\n",
       "      <td>China</td>\n",
       "    </tr>\n",
       "    <tr>\n",
       "      <th>329</th>\n",
       "      <td>Meizu</td>\n",
       "      <td>Android</td>\n",
       "      <td>15.56</td>\n",
       "      <td>yes</td>\n",
       "      <td>no</td>\n",
       "      <td>NaN</td>\n",
       "      <td>20.00</td>\n",
       "      <td>128.00</td>\n",
       "      <td>6.00</td>\n",
       "      <td>3600.00</td>\n",
       "      <td>165.00</td>\n",
       "      <td>2019</td>\n",
       "      <td>226</td>\n",
       "      <td>421.12</td>\n",
       "      <td>318.15</td>\n",
       "      <td>China</td>\n",
       "    </tr>\n",
       "    <tr>\n",
       "      <th>3382</th>\n",
       "      <td>Realme</td>\n",
       "      <td>Android</td>\n",
       "      <td>16.03</td>\n",
       "      <td>yes</td>\n",
       "      <td>no</td>\n",
       "      <td>NaN</td>\n",
       "      <td>13.00</td>\n",
       "      <td>64.00</td>\n",
       "      <td>4.00</td>\n",
       "      <td>5000.00</td>\n",
       "      <td>198.00</td>\n",
       "      <td>2019</td>\n",
       "      <td>299</td>\n",
       "      <td>143.65</td>\n",
       "      <td>95.52</td>\n",
       "      <td>India</td>\n",
       "    </tr>\n",
       "    <tr>\n",
       "      <th>161</th>\n",
       "      <td>Vivo</td>\n",
       "      <td>Android</td>\n",
       "      <td>24.13</td>\n",
       "      <td>yes</td>\n",
       "      <td>yes</td>\n",
       "      <td>NaN</td>\n",
       "      <td>32.00</td>\n",
       "      <td>128.00</td>\n",
       "      <td>8.00</td>\n",
       "      <td>4315.00</td>\n",
       "      <td>181.50</td>\n",
       "      <td>2020</td>\n",
       "      <td>145</td>\n",
       "      <td>630.25</td>\n",
       "      <td>470.69</td>\n",
       "      <td>China</td>\n",
       "    </tr>\n",
       "    <tr>\n",
       "      <th>146</th>\n",
       "      <td>Realme</td>\n",
       "      <td>Android</td>\n",
       "      <td>15.40</td>\n",
       "      <td>yes</td>\n",
       "      <td>no</td>\n",
       "      <td>NaN</td>\n",
       "      <td>5.00</td>\n",
       "      <td>32.00</td>\n",
       "      <td>2.00</td>\n",
       "      <td>4000.00</td>\n",
       "      <td>166.00</td>\n",
       "      <td>2019</td>\n",
       "      <td>399</td>\n",
       "      <td>100.62</td>\n",
       "      <td>65.48</td>\n",
       "      <td>India</td>\n",
       "    </tr>\n",
       "    <tr>\n",
       "      <th>197</th>\n",
       "      <td>Xiaomi</td>\n",
       "      <td>Android</td>\n",
       "      <td>25.88</td>\n",
       "      <td>yes</td>\n",
       "      <td>yes</td>\n",
       "      <td>NaN</td>\n",
       "      <td>16.00</td>\n",
       "      <td>128.00</td>\n",
       "      <td>6.00</td>\n",
       "      <td>4500.00</td>\n",
       "      <td>208.00</td>\n",
       "      <td>2020</td>\n",
       "      <td>184</td>\n",
       "      <td>260.81</td>\n",
       "      <td>196.45</td>\n",
       "      <td>China</td>\n",
       "    </tr>\n",
       "    <tr>\n",
       "      <th>352</th>\n",
       "      <td>Oppo</td>\n",
       "      <td>Android</td>\n",
       "      <td>22.07</td>\n",
       "      <td>yes</td>\n",
       "      <td>yes</td>\n",
       "      <td>NaN</td>\n",
       "      <td>32.00</td>\n",
       "      <td>128.00</td>\n",
       "      <td>8.00</td>\n",
       "      <td>4000.00</td>\n",
       "      <td>183.00</td>\n",
       "      <td>2020</td>\n",
       "      <td>281</td>\n",
       "      <td>369.30</td>\n",
       "      <td>257.34</td>\n",
       "      <td>China</td>\n",
       "    </tr>\n",
       "    <tr>\n",
       "      <th>195</th>\n",
       "      <td>Xiaomi</td>\n",
       "      <td>Android</td>\n",
       "      <td>24.29</td>\n",
       "      <td>yes</td>\n",
       "      <td>yes</td>\n",
       "      <td>NaN</td>\n",
       "      <td>16.00</td>\n",
       "      <td>64.00</td>\n",
       "      <td>6.00</td>\n",
       "      <td>4520.00</td>\n",
       "      <td>205.00</td>\n",
       "      <td>2020</td>\n",
       "      <td>301</td>\n",
       "      <td>200.60</td>\n",
       "      <td>128.76</td>\n",
       "      <td>China</td>\n",
       "    </tr>\n",
       "  </tbody>\n",
       "</table>\n",
       "</div>"
      ],
      "text/plain": [
       "     brand_name       os  screen_size   4g   5g  main_camera_mp  \\\n",
       "3480      Meizu  Android        16.19  yes  yes             NaN   \n",
       "3481   Motorola  Android        15.88  yes   no             NaN   \n",
       "126        Oppo  Android        23.97  yes  yes             NaN   \n",
       "329       Meizu  Android        15.56  yes   no             NaN   \n",
       "3382     Realme  Android        16.03  yes   no             NaN   \n",
       "161        Vivo  Android        24.13  yes  yes             NaN   \n",
       "146      Realme  Android        15.40  yes   no             NaN   \n",
       "197      Xiaomi  Android        25.88  yes  yes             NaN   \n",
       "352        Oppo  Android        22.07  yes  yes             NaN   \n",
       "195      Xiaomi  Android        24.29  yes  yes             NaN   \n",
       "\n",
       "      selfie_camera_mp  int_memory  ram  battery  weight  release_year  \\\n",
       "3480             20.00      128.00 8.00  4500.00  219.00          2020   \n",
       "3481              8.00       32.00 3.00  4000.00  189.40          2020   \n",
       "126              32.00      128.00 8.00  4000.00  172.00          2020   \n",
       "329              20.00      128.00 6.00  3600.00  165.00          2019   \n",
       "3382             13.00       64.00 4.00  5000.00  198.00          2019   \n",
       "161              32.00      128.00 8.00  4315.00  181.50          2020   \n",
       "146               5.00       32.00 2.00  4000.00  166.00          2019   \n",
       "197              16.00      128.00 6.00  4500.00  208.00          2020   \n",
       "352              32.00      128.00 8.00  4000.00  183.00          2020   \n",
       "195              16.00       64.00 6.00  4520.00  205.00          2020   \n",
       "\n",
       "      days_used  new_price  used_price country_of_brand  \n",
       "3480        139     600.09      451.07            China  \n",
       "3481        101     169.99      125.64              USA  \n",
       "126         187     470.34      356.01            China  \n",
       "329         226     421.12      318.15            China  \n",
       "3382        299     143.65       95.52            India  \n",
       "161         145     630.25      470.69            China  \n",
       "146         399     100.62       65.48            India  \n",
       "197         184     260.81      196.45            China  \n",
       "352         281     369.30      257.34            China  \n",
       "195         301     200.60      128.76            China  "
      ]
     },
     "execution_count": 34,
     "metadata": {},
     "output_type": "execute_result"
    }
   ],
   "source": [
    "#select a random sample of 10 rows with one or more non-null values\n",
    "np.random.seed(1)\n",
    "df_null.sample(n=10)"
   ]
  },
  {
   "cell_type": "markdown",
   "metadata": {},
   "source": [
    "- These 203 rows with one or more null values appears to provide valid, non-dull data consistent with the rest of the dataframe\n",
    "- However, this dataframe is dominated by rows with only null values in the 'main_camera_mp' column"
   ]
  },
  {
   "cell_type": "code",
   "execution_count": 35,
   "metadata": {},
   "outputs": [
    {
     "data": {
      "text/html": [
       "<div>\n",
       "<style scoped>\n",
       "    .dataframe tbody tr th:only-of-type {\n",
       "        vertical-align: middle;\n",
       "    }\n",
       "\n",
       "    .dataframe tbody tr th {\n",
       "        vertical-align: top;\n",
       "    }\n",
       "\n",
       "    .dataframe thead th {\n",
       "        text-align: right;\n",
       "    }\n",
       "</style>\n",
       "<table border=\"1\" class=\"dataframe\">\n",
       "  <thead>\n",
       "    <tr style=\"text-align: right;\">\n",
       "      <th></th>\n",
       "      <th>brand_name</th>\n",
       "      <th>os</th>\n",
       "      <th>screen_size</th>\n",
       "      <th>4g</th>\n",
       "      <th>5g</th>\n",
       "      <th>main_camera_mp</th>\n",
       "      <th>selfie_camera_mp</th>\n",
       "      <th>int_memory</th>\n",
       "      <th>ram</th>\n",
       "      <th>battery</th>\n",
       "      <th>weight</th>\n",
       "      <th>release_year</th>\n",
       "      <th>days_used</th>\n",
       "      <th>new_price</th>\n",
       "      <th>used_price</th>\n",
       "      <th>country_of_brand</th>\n",
       "    </tr>\n",
       "  </thead>\n",
       "  <tbody>\n",
       "    <tr>\n",
       "      <th>3118</th>\n",
       "      <td>XOLO</td>\n",
       "      <td>Windows</td>\n",
       "      <td>12.70</td>\n",
       "      <td>no</td>\n",
       "      <td>no</td>\n",
       "      <td>8.00</td>\n",
       "      <td>2.00</td>\n",
       "      <td>32.00</td>\n",
       "      <td>4.00</td>\n",
       "      <td>2200.00</td>\n",
       "      <td>NaN</td>\n",
       "      <td>2015</td>\n",
       "      <td>838</td>\n",
       "      <td>120.51</td>\n",
       "      <td>36.14</td>\n",
       "      <td>India</td>\n",
       "    </tr>\n",
       "    <tr>\n",
       "      <th>3114</th>\n",
       "      <td>XOLO</td>\n",
       "      <td>Android</td>\n",
       "      <td>13.49</td>\n",
       "      <td>yes</td>\n",
       "      <td>no</td>\n",
       "      <td>8.00</td>\n",
       "      <td>5.00</td>\n",
       "      <td>16.00</td>\n",
       "      <td>4.00</td>\n",
       "      <td>3200.00</td>\n",
       "      <td>NaN</td>\n",
       "      <td>2015</td>\n",
       "      <td>800</td>\n",
       "      <td>179.33</td>\n",
       "      <td>53.81</td>\n",
       "      <td>India</td>\n",
       "    </tr>\n",
       "    <tr>\n",
       "      <th>1901</th>\n",
       "      <td>Meizu</td>\n",
       "      <td>Android</td>\n",
       "      <td>13.49</td>\n",
       "      <td>yes</td>\n",
       "      <td>no</td>\n",
       "      <td>13.00</td>\n",
       "      <td>5.00</td>\n",
       "      <td>16.00</td>\n",
       "      <td>4.00</td>\n",
       "      <td>NaN</td>\n",
       "      <td>145.00</td>\n",
       "      <td>2014</td>\n",
       "      <td>986</td>\n",
       "      <td>129.49</td>\n",
       "      <td>38.67</td>\n",
       "      <td>China</td>\n",
       "    </tr>\n",
       "    <tr>\n",
       "      <th>2148</th>\n",
       "      <td>Nokia</td>\n",
       "      <td>Others</td>\n",
       "      <td>5.72</td>\n",
       "      <td>no</td>\n",
       "      <td>no</td>\n",
       "      <td>0.30</td>\n",
       "      <td>2.00</td>\n",
       "      <td>NaN</td>\n",
       "      <td>NaN</td>\n",
       "      <td>1100.00</td>\n",
       "      <td>78.40</td>\n",
       "      <td>2015</td>\n",
       "      <td>559</td>\n",
       "      <td>29.33</td>\n",
       "      <td>14.76</td>\n",
       "      <td>Finland</td>\n",
       "    </tr>\n",
       "    <tr>\n",
       "      <th>2145</th>\n",
       "      <td>Nokia</td>\n",
       "      <td>Others</td>\n",
       "      <td>5.72</td>\n",
       "      <td>no</td>\n",
       "      <td>no</td>\n",
       "      <td>2.00</td>\n",
       "      <td>2.00</td>\n",
       "      <td>NaN</td>\n",
       "      <td>NaN</td>\n",
       "      <td>1100.00</td>\n",
       "      <td>79.00</td>\n",
       "      <td>2015</td>\n",
       "      <td>798</td>\n",
       "      <td>40.48</td>\n",
       "      <td>16.13</td>\n",
       "      <td>Finland</td>\n",
       "    </tr>\n",
       "    <tr>\n",
       "      <th>2037</th>\n",
       "      <td>Microsoft</td>\n",
       "      <td>Windows</td>\n",
       "      <td>26.35</td>\n",
       "      <td>no</td>\n",
       "      <td>no</td>\n",
       "      <td>5.00</td>\n",
       "      <td>3.50</td>\n",
       "      <td>32.00</td>\n",
       "      <td>4.00</td>\n",
       "      <td>NaN</td>\n",
       "      <td>675.90</td>\n",
       "      <td>2013</td>\n",
       "      <td>931</td>\n",
       "      <td>331.21</td>\n",
       "      <td>99.49</td>\n",
       "      <td>USA</td>\n",
       "    </tr>\n",
       "    <tr>\n",
       "      <th>3119</th>\n",
       "      <td>XOLO</td>\n",
       "      <td>Android</td>\n",
       "      <td>12.70</td>\n",
       "      <td>no</td>\n",
       "      <td>no</td>\n",
       "      <td>8.00</td>\n",
       "      <td>5.00</td>\n",
       "      <td>32.00</td>\n",
       "      <td>4.00</td>\n",
       "      <td>2500.00</td>\n",
       "      <td>NaN</td>\n",
       "      <td>2015</td>\n",
       "      <td>1045</td>\n",
       "      <td>119.75</td>\n",
       "      <td>35.78</td>\n",
       "      <td>India</td>\n",
       "    </tr>\n",
       "    <tr>\n",
       "      <th>2141</th>\n",
       "      <td>Nokia</td>\n",
       "      <td>Others</td>\n",
       "      <td>5.72</td>\n",
       "      <td>no</td>\n",
       "      <td>no</td>\n",
       "      <td>0.30</td>\n",
       "      <td>0.30</td>\n",
       "      <td>NaN</td>\n",
       "      <td>NaN</td>\n",
       "      <td>NaN</td>\n",
       "      <td>82.60</td>\n",
       "      <td>2016</td>\n",
       "      <td>1023</td>\n",
       "      <td>38.78</td>\n",
       "      <td>11.42</td>\n",
       "      <td>Finland</td>\n",
       "    </tr>\n",
       "    <tr>\n",
       "      <th>2140</th>\n",
       "      <td>Nokia</td>\n",
       "      <td>Others</td>\n",
       "      <td>5.72</td>\n",
       "      <td>no</td>\n",
       "      <td>no</td>\n",
       "      <td>0.30</td>\n",
       "      <td>0.30</td>\n",
       "      <td>NaN</td>\n",
       "      <td>NaN</td>\n",
       "      <td>NaN</td>\n",
       "      <td>81.00</td>\n",
       "      <td>2016</td>\n",
       "      <td>815</td>\n",
       "      <td>29.21</td>\n",
       "      <td>8.65</td>\n",
       "      <td>Finland</td>\n",
       "    </tr>\n",
       "    <tr>\n",
       "      <th>3113</th>\n",
       "      <td>XOLO</td>\n",
       "      <td>Android</td>\n",
       "      <td>12.70</td>\n",
       "      <td>yes</td>\n",
       "      <td>no</td>\n",
       "      <td>13.00</td>\n",
       "      <td>5.00</td>\n",
       "      <td>32.00</td>\n",
       "      <td>4.00</td>\n",
       "      <td>2400.00</td>\n",
       "      <td>NaN</td>\n",
       "      <td>2015</td>\n",
       "      <td>576</td>\n",
       "      <td>138.44</td>\n",
       "      <td>69.38</td>\n",
       "      <td>India</td>\n",
       "    </tr>\n",
       "  </tbody>\n",
       "</table>\n",
       "</div>"
      ],
      "text/plain": [
       "     brand_name       os  screen_size   4g  5g  main_camera_mp  \\\n",
       "3118       XOLO  Windows        12.70   no  no            8.00   \n",
       "3114       XOLO  Android        13.49  yes  no            8.00   \n",
       "1901      Meizu  Android        13.49  yes  no           13.00   \n",
       "2148      Nokia   Others         5.72   no  no            0.30   \n",
       "2145      Nokia   Others         5.72   no  no            2.00   \n",
       "2037  Microsoft  Windows        26.35   no  no            5.00   \n",
       "3119       XOLO  Android        12.70   no  no            8.00   \n",
       "2141      Nokia   Others         5.72   no  no            0.30   \n",
       "2140      Nokia   Others         5.72   no  no            0.30   \n",
       "3113       XOLO  Android        12.70  yes  no           13.00   \n",
       "\n",
       "      selfie_camera_mp  int_memory  ram  battery  weight  release_year  \\\n",
       "3118              2.00       32.00 4.00  2200.00     NaN          2015   \n",
       "3114              5.00       16.00 4.00  3200.00     NaN          2015   \n",
       "1901              5.00       16.00 4.00      NaN  145.00          2014   \n",
       "2148              2.00         NaN  NaN  1100.00   78.40          2015   \n",
       "2145              2.00         NaN  NaN  1100.00   79.00          2015   \n",
       "2037              3.50       32.00 4.00      NaN  675.90          2013   \n",
       "3119              5.00       32.00 4.00  2500.00     NaN          2015   \n",
       "2141              0.30         NaN  NaN      NaN   82.60          2016   \n",
       "2140              0.30         NaN  NaN      NaN   81.00          2016   \n",
       "3113              5.00       32.00 4.00  2400.00     NaN          2015   \n",
       "\n",
       "      days_used  new_price  used_price country_of_brand  \n",
       "3118        838     120.51       36.14            India  \n",
       "3114        800     179.33       53.81            India  \n",
       "1901        986     129.49       38.67            China  \n",
       "2148        559      29.33       14.76          Finland  \n",
       "2145        798      40.48       16.13          Finland  \n",
       "2037        931     331.21       99.49              USA  \n",
       "3119       1045     119.75       35.78            India  \n",
       "2141       1023      38.78       11.42          Finland  \n",
       "2140        815      29.21        8.65          Finland  \n",
       "3113        576     138.44       69.38            India  "
      ]
     },
     "execution_count": 35,
     "metadata": {},
     "output_type": "execute_result"
    }
   ],
   "source": [
    "#drop rows with null values in the 'main_camera_mp' column and draw a randome sample of 10 rows from this subset \n",
    "df_null_new = df_null.dropna(subset=['main_camera_mp'])\n",
    "df_null_new.sample(n=10)"
   ]
  },
  {
   "cell_type": "markdown",
   "metadata": {},
   "source": [
    "- This subset of rows with null values also appears to provide valid, non-null data\n",
    "- Since all of the predictor variables with missing data are skewed, we can replace the missing values in each column with its median"
   ]
  },
  {
   "cell_type": "code",
   "execution_count": 36,
   "metadata": {},
   "outputs": [],
   "source": [
    "#lamda function to replace missing data in predictor variables\n",
    "medianFiller = lambda x: x.fillna(x.median())\n",
    "numeric_columns = df.select_dtypes(include=np.number).columns.tolist()\n",
    "df[numeric_columns] = df[numeric_columns].apply(medianFiller, axis=0)"
   ]
  },
  {
   "cell_type": "code",
   "execution_count": 37,
   "metadata": {},
   "outputs": [
    {
     "name": "stdout",
     "output_type": "stream",
     "text": [
      "<class 'pandas.core.frame.DataFrame'>\n",
      "RangeIndex: 3571 entries, 0 to 3570\n",
      "Data columns (total 16 columns):\n",
      " #   Column            Non-Null Count  Dtype   \n",
      "---  ------            --------------  -----   \n",
      " 0   brand_name        3571 non-null   category\n",
      " 1   os                3571 non-null   category\n",
      " 2   screen_size       3571 non-null   float64 \n",
      " 3   4g                3571 non-null   category\n",
      " 4   5g                3571 non-null   category\n",
      " 5   main_camera_mp    3571 non-null   float64 \n",
      " 6   selfie_camera_mp  3571 non-null   float64 \n",
      " 7   int_memory        3571 non-null   float64 \n",
      " 8   ram               3571 non-null   float64 \n",
      " 9   battery           3571 non-null   float64 \n",
      " 10  weight            3571 non-null   float64 \n",
      " 11  release_year      3571 non-null   int64   \n",
      " 12  days_used         3571 non-null   int64   \n",
      " 13  new_price         3571 non-null   float64 \n",
      " 14  used_price        3571 non-null   float64 \n",
      " 15  country_of_brand  3571 non-null   category\n",
      "dtypes: category(5), float64(9), int64(2)\n",
      "memory usage: 326.6 KB\n"
     ]
    }
   ],
   "source": [
    "#verify the missing values have been replaced\n",
    "df.info()"
   ]
  },
  {
   "cell_type": "markdown",
   "metadata": {},
   "source": [
    "- Missing values have been treated"
   ]
  },
  {
   "cell_type": "markdown",
   "metadata": {},
   "source": [
    "## Bivariate analysis"
   ]
  },
  {
   "cell_type": "markdown",
   "metadata": {},
   "source": [
    "#### Correlation heat map"
   ]
  },
  {
   "cell_type": "code",
   "execution_count": 38,
   "metadata": {
    "scrolled": false
   },
   "outputs": [
    {
     "data": {
      "image/png": "[encoded data removed]",
      "text/plain": [
       "<Figure size 1080x504 with 2 Axes>"
      ]
     },
     "metadata": {},
     "output_type": "display_data"
    }
   ],
   "source": [
    "numeric_columns = df.select_dtypes(include=np.number).columns.tolist()\n",
    "\n",
    "# correlation heatmap\n",
    "plt.figure(figsize=(15, 7))\n",
    "sns.heatmap(\n",
    "    df[numeric_columns].corr(),\n",
    "    annot=True,\n",
    "    vmin=-1,\n",
    "    vmax=1,\n",
    "    fmt=\".2f\",\n",
    "    cmap='viridis',\n",
    ")\n",
    "plt.show()"
   ]
  },
  {
   "cell_type": "markdown",
   "metadata": {},
   "source": [
    "**Observations**\n",
    "- *new_price* is highly positively correlated with *used_price*, which means that as the new price of a phone increases, the used price of a phone tends to increase.\n",
    "- *days_used* is negatively correlated with *release_year*, which means that as the number of days a phone has been used increases, the year a phone was released tends to decrease.\n",
    "- *screen_size* is positively correlated with *battery* and *weight*, which means that as a phone's screen size increases, the weight of the phone and the size of the battery also tend to increase.\n",
    "\n",
    "#### Potential predictors in *used_price* model\n",
    "- All of the variables, except *days_used*, appear to at least show some positive correlation with *used_price*\n",
    "- *used_price* is positively correlated with *new_price*, *ram*, *selfie_camera_mp*,  and *release_year*, and negatively correlated with *days_used*. Therefore, this indicates these variables could be predictors of *used_price* in our linear model."
   ]
  },
  {
   "cell_type": "code",
   "execution_count": 39,
   "metadata": {
    "scrolled": true
   },
   "outputs": [
    {
     "name": "stdout",
     "output_type": "stream",
     "text": [
      "\n",
      "\n",
      "brand_name\n",
      "OnePlus   318.52\n",
      "Apple     293.23\n",
      "Google    239.21\n",
      "Oppo      180.85\n",
      "Huawei    176.26\n",
      "Vivo      168.19\n",
      "Xiaomi    137.47\n",
      "Honor     132.29\n",
      "Samsung   132.08\n",
      "Meizu     126.52\n",
      "Name: used_price, dtype: float64\n",
      "Only displaying first 10 of 34 values.\n",
      "\n",
      "\n",
      "os\n",
      "iOS       280.76\n",
      "Android   111.97\n",
      "Windows    65.08\n",
      "Others     43.81\n",
      "Name: used_price, dtype: float64\n",
      "\n",
      "\n",
      "4g\n",
      "yes   139.27\n",
      "no     52.68\n",
      "Name: used_price, dtype: float64\n",
      "\n",
      "\n",
      "5g\n",
      "yes   416.89\n",
      "no     96.23\n",
      "Name: used_price, dtype: float64\n",
      "\n",
      "\n",
      "country_of_brand\n",
      "USA           164.82\n",
      "China         138.41\n",
      "South Korea   126.11\n",
      "Canada        102.04\n",
      "Japan          99.14\n",
      "Taiwan         95.08\n",
      "None           78.49\n",
      "Hong Kong      77.15\n",
      "Finland        59.39\n",
      "India          47.75\n",
      "Name: used_price, dtype: float64\n",
      "\n",
      "\n"
     ]
    }
   ],
   "source": [
    "#create tables of the top ten of each category grouped by highest mean used price\n",
    "num_to_display = 10\n",
    "print('\\n')\n",
    "for colname in df.dtypes[df.dtypes == 'category'].index:\n",
    "    means = df.groupby(colname).used_price.mean().sort_values(ascending=False)\n",
    "    print(means[:num_to_display])\n",
    "    if len(means) > num_to_display:\n",
    "        print(f'Only displaying first {num_to_display} of {len(means)} values.')\n",
    "    print('\\n')"
   ]
  },
  {
   "cell_type": "code",
   "execution_count": 40,
   "metadata": {},
   "outputs": [
    {
     "data": {
      "image/png": "[encoded data removed]",
      "text/plain": [
       "<Figure size 1152x576 with 1 Axes>"
      ]
     },
     "metadata": {},
     "output_type": "display_data"
    }
   ],
   "source": [
    "#create boxplot of used prices by country of origin\n",
    "plt.figure(figsize=(16, 8))\n",
    "sns.boxplot(y='country_of_brand', x=\"used_price\", data=df)\n",
    "plt.show()"
   ]
  },
  {
   "cell_type": "code",
   "execution_count": 41,
   "metadata": {},
   "outputs": [
    {
     "data": {
      "image/png": "[encoded data removed]",
      "text/plain": [
       "<Figure size 1152x576 with 1 Axes>"
      ]
     },
     "metadata": {},
     "output_type": "display_data"
    }
   ],
   "source": [
    "#create boxplot for used price by operating system\n",
    "plt.figure(figsize=(16, 8))\n",
    "sns.boxplot(y='os', x=\"used_price\", data=df)\n",
    "plt.show()"
   ]
  },
  {
   "cell_type": "markdown",
   "metadata": {},
   "source": [
    "**Observations**\n",
    "- OnePlus, Apple, and Google phones are the top three most expensive phones to buy used by a considerable margin\n",
    "- Phones with an iOS operating system are considerably more expensive than phones with other operating systems\n",
    "- A phone that is 5g-capable will cost ~4x more than a phone with either 4g or neither\n",
    "- Phones manufactured by companies based in the US, China, and South Korea are the most expensive, all three also are shown to have a high number of expensive outliers"
   ]
  },
  {
   "cell_type": "markdown",
   "metadata": {},
   "source": [
    "## Data Preprocessing (cont.)"
   ]
  },
  {
   "cell_type": "markdown",
   "metadata": {},
   "source": [
    "### Transformations"
   ]
  },
  {
   "cell_type": "markdown",
   "metadata": {},
   "source": [
    "**New price and Used price**\n",
    "- Both the distributions for *new_price* and *used_price* appear to be log-normal\n",
    "- Applying a logarithmic transformation to both should result in normal (or approximations) of normal distributions"
   ]
  },
  {
   "cell_type": "code",
   "execution_count": 42,
   "metadata": {},
   "outputs": [],
   "source": [
    "df['new_log'] = np.log(df.new_price)\n",
    "df['used_log'] = np.log(df.used_price)"
   ]
  },
  {
   "cell_type": "code",
   "execution_count": 43,
   "metadata": {},
   "outputs": [
    {
     "data": {
      "image/png": "[encoded data removed]",
      "text/plain": [
       "<Figure size 1152x432 with 2 Axes>"
      ]
     },
     "metadata": {},
     "output_type": "display_data"
    }
   ],
   "source": [
    "histogram_boxplot(df, 'used_log')"
   ]
  },
  {
   "cell_type": "code",
   "execution_count": 44,
   "metadata": {},
   "outputs": [
    {
     "data": {
      "image/png": "[encoded data removed]",
      "text/plain": [
       "<Figure size 1152x432 with 2 Axes>"
      ]
     },
     "metadata": {},
     "output_type": "display_data"
    }
   ],
   "source": [
    "histogram_boxplot(df, 'new_log')"
   ]
  },
  {
   "cell_type": "markdown",
   "metadata": {},
   "source": [
    "**Observations**\n",
    "- Both transformed distributions are closer approximations of a normal distribution"
   ]
  },
  {
   "cell_type": "markdown",
   "metadata": {},
   "source": [
    "### Outliers"
   ]
  },
  {
   "cell_type": "code",
   "execution_count": 45,
   "metadata": {},
   "outputs": [
    {
     "name": "stdout",
     "output_type": "stream",
     "text": [
      "     brand_name       os  screen_size   4g   5g  main_camera_mp  \\\n",
      "2562    Samsung  Android        46.36  yes   no            2.10   \n",
      "387     Samsung  Android        43.66  yes   no           12.00   \n",
      "1646     Lenovo  Android        33.50  yes   no            8.00   \n",
      "204      Xiaomi  Android        32.39  yes  yes           12.00   \n",
      "666       Apple      iOS        31.91  yes   no           12.00   \n",
      "\n",
      "      selfie_camera_mp  int_memory   ram  battery  weight  release_year  \\\n",
      "2562              5.00       32.00  4.00  5700.00   65.00          2015   \n",
      "387               5.00       64.00  3.00 12000.00   23.00          2019   \n",
      "1646              1.60       32.00  4.00  9600.00  950.00          2014   \n",
      "204              20.00      512.00 12.00  4050.00  241.00          2019   \n",
      "666               7.00     1024.00  4.00  9720.00  631.00          2018   \n",
      "\n",
      "      days_used  new_price  used_price country_of_brand  new_log  used_log  \n",
      "2562        627     639.87      255.73      South Korea     6.46      5.54  \n",
      "387         266     659.47      460.58      South Korea     6.49      6.13  \n",
      "1646       1085     409.19      122.83        Hong Kong     6.01      4.81  \n",
      "204         478    2498.24     1248.99            China     7.82      7.13  \n",
      "666         543    1100.86      550.40              USA     7.00      6.31  \n",
      "\n",
      "\n",
      "     brand_name       os  screen_size   4g  5g  main_camera_mp  \\\n",
      "3497   Motorola  Android        15.88  yes  no           48.00   \n",
      "3354   Motorola  Android        15.88  yes  no           48.00   \n",
      "221         ZTE  Android        25.56  yes  no           48.00   \n",
      "216         ZTE  Android        25.56  yes  no           48.00   \n",
      "2186      Nokia  Windows        10.95  yes  no           41.00   \n",
      "\n",
      "      selfie_camera_mp  int_memory  ram  battery  weight  release_year  \\\n",
      "3497             25.00      128.00 4.00  3600.00  165.00          2019   \n",
      "3354             25.00      128.00 4.00  3600.00  165.00          2019   \n",
      "221              16.00       64.00 6.00  5000.00  215.00          2019   \n",
      "216              16.00      128.00 8.00  5000.00  215.00          2019   \n",
      "2186              1.20       32.00 4.00  2000.00  158.00          2013   \n",
      "\n",
      "      days_used  new_price  used_price country_of_brand  new_log  used_log  \n",
      "3497        422     254.99      127.72              USA     5.54      4.85  \n",
      "3354        371     254.99      164.69              USA     5.54      5.10  \n",
      "221         506     501.56      250.83            China     6.22      5.52  \n",
      "216         336     819.57      533.34            China     6.71      6.28  \n",
      "2186        988     399.13      119.75          Finland     5.99      4.79  \n",
      "\n",
      "\n",
      "     brand_name       os  screen_size   4g   5g  main_camera_mp  \\\n",
      "207      Xiaomi  Android        15.40  yes   no           12.00   \n",
      "74       Lenovo  Android        21.43  yes  yes            8.00   \n",
      "161        Vivo  Android        24.13  yes  yes            8.00   \n",
      "3555    Samsung  Android        15.88  yes   no           12.00   \n",
      "3450      Honor  Android        23.65  yes  yes           13.00   \n",
      "\n",
      "      selfie_camera_mp  int_memory  ram  battery  weight  release_year  \\\n",
      "207              32.00       64.00 4.00  4030.00  173.80          2019   \n",
      "74               32.00      128.00 6.00  4000.00  185.00          2019   \n",
      "161              32.00      128.00 8.00  4315.00  181.50          2020   \n",
      "3555             32.00       64.00 4.00  4000.00  169.00          2019   \n",
      "3450             32.00      128.00 6.00  4000.00  185.00          2020   \n",
      "\n",
      "      days_used  new_price  used_price country_of_brand  new_log  used_log  \n",
      "207         396     168.88      108.88            China     5.13      4.69  \n",
      "74          370     400.32      260.52        Hong Kong     5.99      5.56  \n",
      "161         145     630.25      470.69            China     6.45      6.15  \n",
      "3555        315     231.19      149.38      South Korea     5.44      5.01  \n",
      "3450        275     353.59      247.86            China     5.87      5.51  \n",
      "\n",
      "\n",
      "     brand_name       os  screen_size   4g  5g  main_camera_mp  \\\n",
      "834        Asus  Android        11.27   no  no           13.00   \n",
      "1530       Lava  Android        10.16   no  no            2.00   \n",
      "815        Asus  Android        12.70   no  no            8.00   \n",
      "666       Apple      iOS        31.91  yes  no           12.00   \n",
      "2341     Others  Android        12.70   no  no            5.00   \n",
      "\n",
      "      selfie_camera_mp  int_memory  ram  battery  weight  release_year  \\\n",
      "834               1.20     1024.00 4.00  1820.00  126.00          2014   \n",
      "1530              0.30     1024.00 4.00  1400.00  113.00          2013   \n",
      "815               0.30     1024.00 4.00  2500.00  160.00          2014   \n",
      "666               7.00     1024.00 4.00  9720.00  631.00          2018   \n",
      "2341              0.30     1024.00 4.00  2200.00  170.00          2013   \n",
      "\n",
      "      days_used  new_price  used_price country_of_brand  new_log  used_log  \n",
      "834         772     258.53      103.40           Taiwan     5.56      4.64  \n",
      "1530        595      51.16       25.70            India     3.93      3.25  \n",
      "815         860      98.93       29.70           Taiwan     4.59      3.39  \n",
      "666         543    1100.86      550.40              USA     7.00      6.31  \n",
      "2341        584     170.00       84.86             None     5.14      4.44  \n",
      "\n",
      "\n",
      "     brand_name       os  screen_size   4g   5g  main_camera_mp  \\\n",
      "344       Nokia   Others         5.72  yes   no            0.30   \n",
      "3459     Huawei   Others         8.73   no   no           10.50   \n",
      "119       Nokia   Others         5.72  yes   no            0.30   \n",
      "3316     Huawei   Others         8.73   no   no           10.50   \n",
      "336    Motorola  Android        16.35  yes  yes            8.00   \n",
      "\n",
      "      selfie_camera_mp  int_memory   ram  battery  weight  release_year  \\\n",
      "344               8.00        0.02 16.00  1200.00   86.50          2019   \n",
      "3459             16.00        4.00 16.00   455.00   43.00          2020   \n",
      "119               8.00        0.02 16.00  1200.00   86.50          2019   \n",
      "3316             16.00        4.00 16.00   455.00   43.00          2020   \n",
      "336              25.00      256.00 12.00  5000.00  203.00          2020   \n",
      "\n",
      "      days_used  new_price  used_price country_of_brand  new_log  used_log  \n",
      "344         414      39.83       19.90          Finland     3.68      2.99  \n",
      "3459        185     126.65       93.52            China     4.84      4.54  \n",
      "119         234      39.98       30.80          Finland     3.69      3.43  \n",
      "3316        117     126.65       95.43            China     4.84      4.56  \n",
      "336         188    1197.49      894.04              USA     7.09      6.80  \n",
      "\n",
      "\n",
      "     brand_name       os  screen_size   4g  5g  main_camera_mp  \\\n",
      "387     Samsung  Android        43.66  yes  no           12.00   \n",
      "401       Apple   Others        31.91  yes  no           12.00   \n",
      "666       Apple      iOS        31.91  yes  no           12.00   \n",
      "1647     Lenovo  Android        25.56  yes  no            8.00   \n",
      "1646     Lenovo  Android        33.50  yes  no            8.00   \n",
      "\n",
      "      selfie_camera_mp  int_memory  ram  battery  weight  release_year  \\\n",
      "387               5.00       64.00 3.00 12000.00   23.00          2019   \n",
      "401               7.00      128.00 6.00  9720.00  641.00          2020   \n",
      "666               7.00     1024.00 4.00  9720.00  631.00          2018   \n",
      "1647              1.60       16.00 4.00  9600.00  619.00          2014   \n",
      "1646              1.60       32.00 4.00  9600.00  950.00          2014   \n",
      "\n",
      "      days_used  new_price  used_price country_of_brand  new_log  used_log  \n",
      "387         266     659.47      460.58      South Korea     6.49      6.13  \n",
      "401         220     999.58      749.84              USA     6.91      6.62  \n",
      "666         543    1100.86      550.40              USA     7.00      6.31  \n",
      "1647        723     300.61      120.29        Hong Kong     5.71      4.79  \n",
      "1646       1085     409.19      122.83        Hong Kong     6.01      4.81  \n",
      "\n",
      "\n",
      "     brand_name       os  screen_size   4g  5g  main_camera_mp  \\\n",
      "1646     Lenovo  Android        33.50  yes  no            8.00   \n",
      "1193     Others  Android        25.56   no  no            5.00   \n",
      "1192     Others  Android        30.96   no  no            8.00   \n",
      "2688    Samsung  Android        30.80   no  no            8.00   \n",
      "2687    Samsung  Android        30.80  yes  no            8.00   \n",
      "\n",
      "      selfie_camera_mp  int_memory  ram  battery  weight  release_year  \\\n",
      "1646              1.60       32.00 4.00  9600.00  950.00          2014   \n",
      "1193              2.00       16.00 4.00  8380.00  855.00          2015   \n",
      "1192              2.00       32.00 4.00  2500.00  850.00          2015   \n",
      "2688              2.00       32.00 4.00  9500.00  753.00          2014   \n",
      "2687              2.00       32.00 4.00  9500.00  753.00          2014   \n",
      "\n",
      "      days_used  new_price  used_price country_of_brand  new_log  used_log  \n",
      "1646       1085     409.19      122.83        Hong Kong     6.01      4.81  \n",
      "1193        889     239.91       71.90             None     5.48      4.28  \n",
      "1192        652     490.18      196.07             None     6.19      5.28  \n",
      "2688       1078     641.13      192.39      South Korea     6.46      5.26  \n",
      "2687       1089     669.49      200.76      South Korea     6.51      5.30  \n",
      "\n",
      "\n",
      "     brand_name       os  screen_size   4g   5g  main_camera_mp  \\\n",
      "3463     Huawei  Android        20.32  yes  yes           10.50   \n",
      "3320     Huawei  Android        20.32  yes  yes           10.50   \n",
      "204      Xiaomi  Android        32.39  yes  yes           12.00   \n",
      "1313     Huawei  Android        20.32  yes   no           13.00   \n",
      "2448    Samsung  Android        18.26  yes   no           12.00   \n",
      "\n",
      "      selfie_camera_mp  int_memory   ram  battery  weight  release_year  \\\n",
      "3463             16.00      512.00  8.00  4500.00  300.00          2020   \n",
      "3320             16.00      512.00  8.00  4500.00  300.00          2020   \n",
      "204              20.00      512.00 12.00  4050.00  241.00          2019   \n",
      "1313             16.00      512.00  4.00  4500.00  295.00          2019   \n",
      "2448              9.00      512.00  4.00  4380.00  263.00          2019   \n",
      "\n",
      "      days_used  new_price  used_price country_of_brand  new_log  used_log  \n",
      "3463        129    2560.20     1916.34            China     7.85      7.56  \n",
      "3320        248    2560.20     1916.54            China     7.85      7.56  \n",
      "204         478    2498.24     1248.99            China     7.82      7.13  \n",
      "1313        434    2300.87     1150.41            China     7.74      7.05  \n",
      "2448        428    1751.18      875.62      South Korea     7.47      6.77  \n",
      "\n",
      "\n",
      "     brand_name       os  screen_size   4g   5g  main_camera_mp  \\\n",
      "3320     Huawei  Android        20.32  yes  yes           10.50   \n",
      "3463     Huawei  Android        20.32  yes  yes           10.50   \n",
      "204      Xiaomi  Android        32.39  yes  yes           12.00   \n",
      "45       Huawei  Android        23.65  yes  yes           13.00   \n",
      "1313     Huawei  Android        20.32  yes   no           13.00   \n",
      "\n",
      "      selfie_camera_mp  int_memory   ram  battery  weight  release_year  \\\n",
      "3320             16.00      512.00  8.00  4500.00  300.00          2020   \n",
      "3463             16.00      512.00  8.00  4500.00  300.00          2020   \n",
      "204              20.00      512.00 12.00  4050.00  241.00          2019   \n",
      "45               16.00      512.00 12.00  4500.00  198.00          2019   \n",
      "1313             16.00      512.00  4.00  4500.00  295.00          2019   \n",
      "\n",
      "      days_used  new_price  used_price country_of_brand  new_log  used_log  \n",
      "3320        248    2560.20     1916.54            China     7.85      7.56  \n",
      "3463        129    2560.20     1916.34            China     7.85      7.56  \n",
      "204         478    2498.24     1248.99            China     7.82      7.13  \n",
      "45          289    1699.36     1185.73            China     7.44      7.08  \n",
      "1313        434    2300.87     1150.41            China     7.74      7.05  \n",
      "\n",
      "\n",
      "     brand_name       os  screen_size   4g   5g  main_camera_mp  \\\n",
      "3463     Huawei  Android        20.32  yes  yes           10.50   \n",
      "3320     Huawei  Android        20.32  yes  yes           10.50   \n",
      "204      Xiaomi  Android        32.39  yes  yes           12.00   \n",
      "1313     Huawei  Android        20.32  yes   no           13.00   \n",
      "2448    Samsung  Android        18.26  yes   no           12.00   \n",
      "\n",
      "      selfie_camera_mp  int_memory   ram  battery  weight  release_year  \\\n",
      "3463             16.00      512.00  8.00  4500.00  300.00          2020   \n",
      "3320             16.00      512.00  8.00  4500.00  300.00          2020   \n",
      "204              20.00      512.00 12.00  4050.00  241.00          2019   \n",
      "1313             16.00      512.00  4.00  4500.00  295.00          2019   \n",
      "2448              9.00      512.00  4.00  4380.00  263.00          2019   \n",
      "\n",
      "      days_used  new_price  used_price country_of_brand  new_log  used_log  \n",
      "3463        129    2560.20     1916.34            China     7.85      7.56  \n",
      "3320        248    2560.20     1916.54            China     7.85      7.56  \n",
      "204         478    2498.24     1248.99            China     7.82      7.13  \n",
      "1313        434    2300.87     1150.41            China     7.74      7.05  \n",
      "2448        428    1751.18      875.62      South Korea     7.47      6.77  \n",
      "\n",
      "\n",
      "     brand_name       os  screen_size   4g   5g  main_camera_mp  \\\n",
      "3320     Huawei  Android        20.32  yes  yes           10.50   \n",
      "3463     Huawei  Android        20.32  yes  yes           10.50   \n",
      "204      Xiaomi  Android        32.39  yes  yes           12.00   \n",
      "45       Huawei  Android        23.65  yes  yes           13.00   \n",
      "1313     Huawei  Android        20.32  yes   no           13.00   \n",
      "\n",
      "      selfie_camera_mp  int_memory   ram  battery  weight  release_year  \\\n",
      "3320             16.00      512.00  8.00  4500.00  300.00          2020   \n",
      "3463             16.00      512.00  8.00  4500.00  300.00          2020   \n",
      "204              20.00      512.00 12.00  4050.00  241.00          2019   \n",
      "45               16.00      512.00 12.00  4500.00  198.00          2019   \n",
      "1313             16.00      512.00  4.00  4500.00  295.00          2019   \n",
      "\n",
      "      days_used  new_price  used_price country_of_brand  new_log  used_log  \n",
      "3320        248    2560.20     1916.54            China     7.85      7.56  \n",
      "3463        129    2560.20     1916.34            China     7.85      7.56  \n",
      "204         478    2498.24     1248.99            China     7.82      7.13  \n",
      "45          289    1699.36     1185.73            China     7.44      7.08  \n",
      "1313        434    2300.87     1150.41            China     7.74      7.05  \n",
      "\n",
      "\n"
     ]
    }
   ],
   "source": [
    "#provide the rows with the top five values for a respective continuous variable\n",
    "for col in df.columns[df.dtypes == 'float64']:\n",
    "    print(df.sort_values(by=[col], ascending=False).head(5))\n",
    "    print('\\n')"
   ]
  },
  {
   "cell_type": "markdown",
   "metadata": {},
   "source": [
    "**Screen-size**\n",
    "- Market research shows that manufacturers do not sell smartphones with screens larger than 20 cm or smaller than 4 cm\n",
    "- Therefore, I will consider all rows with screen sizes larger than 20cm or smaller than 4cm as not a smartphone and, therefore, not appropriate for the purposes of this analysis"
   ]
  },
  {
   "cell_type": "code",
   "execution_count": 46,
   "metadata": {},
   "outputs": [
    {
     "data": {
      "text/plain": [
       "0.1685802296275553"
      ]
     },
     "execution_count": 46,
     "metadata": {},
     "output_type": "execute_result"
    }
   ],
   "source": [
    "#percent of all rows with screen size greater than 20 cm\n",
    "df[df.screen_size>20].screen_size.count() / df.shape[0]"
   ]
  },
  {
   "cell_type": "code",
   "execution_count": 47,
   "metadata": {},
   "outputs": [
    {
     "data": {
      "text/plain": [
       "0.016241949033884068"
      ]
     },
     "execution_count": 47,
     "metadata": {},
     "output_type": "execute_result"
    }
   ],
   "source": [
    "#percent of all rows with screen size less than 4cm\n",
    "df[df.screen_size<4].screen_size.count() / df.shape[0]"
   ]
  },
  {
   "cell_type": "code",
   "execution_count": 48,
   "metadata": {},
   "outputs": [
    {
     "name": "stderr",
     "output_type": "stream",
     "text": [
      "<ipython-input-48-1bd320fa4d6e>:4: UserWarning: Boolean Series key will be reindexed to match DataFrame index.\n",
      "  df_model = df_model[df.screen_size>4]\n"
     ]
    },
    {
     "data": {
      "image/png": "[encoded data removed]",
      "text/plain": [
       "<Figure size 432x288 with 1 Axes>"
      ]
     },
     "metadata": {},
     "output_type": "display_data"
    }
   ],
   "source": [
    "#create new dataframe for the model with only screen sizes smaller than 20 cm\n",
    "df_model = df.copy()\n",
    "df_model = df_model[df.screen_size<20]\n",
    "df_model = df_model[df.screen_size>4]\n",
    "sns.boxplot(data=df_model, x='screen_size')\n",
    "plt.show()"
   ]
  },
  {
   "cell_type": "markdown",
   "metadata": {},
   "source": [
    "**Weight**\n",
    "- Market research shows that manufacturers do not sell smartphones heavier than 490 grams\n",
    "- Therefore, I will consider all rows with weights heavier than 490g as tablets or laptops, which are not appropriate for the purposes of this analysis"
   ]
  },
  {
   "cell_type": "code",
   "execution_count": 49,
   "metadata": {
    "scrolled": true
   },
   "outputs": [
    {
     "data": {
      "text/plain": [
       "0.02156258751050126"
      ]
     },
     "execution_count": 49,
     "metadata": {},
     "output_type": "execute_result"
    }
   ],
   "source": [
    "#percent of all rows with weights greater than 490g\n",
    "df[df.weight>490].weight.count() / df.shape[0]"
   ]
  },
  {
   "cell_type": "code",
   "execution_count": 50,
   "metadata": {
    "scrolled": false
   },
   "outputs": [
    {
     "name": "stderr",
     "output_type": "stream",
     "text": [
      "<ipython-input-50-6fb7b07ea423>:2: UserWarning: Boolean Series key will be reindexed to match DataFrame index.\n",
      "  df_model = df_model[df.weight<490]\n"
     ]
    },
    {
     "data": {
      "image/png": "[encoded data removed]",
      "text/plain": [
       "<Figure size 432x288 with 1 Axes>"
      ]
     },
     "metadata": {},
     "output_type": "display_data"
    }
   ],
   "source": [
    "#create new dataframe with only weights less than 490g\n",
    "df_model = df_model[df.weight<490]\n",
    "sns.boxplot(data=df_model, x='weight')\n",
    "plt.show()"
   ]
  },
  {
   "cell_type": "code",
   "execution_count": 51,
   "metadata": {},
   "outputs": [
    {
     "name": "stdout",
     "output_type": "stream",
     "text": [
      "<class 'pandas.core.frame.DataFrame'>\n",
      "Int64Index: 2907 entries, 4 to 3570\n",
      "Data columns (total 18 columns):\n",
      " #   Column            Non-Null Count  Dtype   \n",
      "---  ------            --------------  -----   \n",
      " 0   brand_name        2907 non-null   category\n",
      " 1   os                2907 non-null   category\n",
      " 2   screen_size       2907 non-null   float64 \n",
      " 3   4g                2907 non-null   category\n",
      " 4   5g                2907 non-null   category\n",
      " 5   main_camera_mp    2907 non-null   float64 \n",
      " 6   selfie_camera_mp  2907 non-null   float64 \n",
      " 7   int_memory        2907 non-null   float64 \n",
      " 8   ram               2907 non-null   float64 \n",
      " 9   battery           2907 non-null   float64 \n",
      " 10  weight            2907 non-null   float64 \n",
      " 11  release_year      2907 non-null   int64   \n",
      " 12  days_used         2907 non-null   int64   \n",
      " 13  new_price         2907 non-null   float64 \n",
      " 14  used_price        2907 non-null   float64 \n",
      " 15  country_of_brand  2907 non-null   category\n",
      " 16  new_log           2907 non-null   float64 \n",
      " 17  used_log          2907 non-null   float64 \n",
      "dtypes: category(5), float64(11), int64(2)\n",
      "memory usage: 334.3 KB\n"
     ]
    }
   ],
   "source": [
    "df_model.info()"
   ]
  },
  {
   "cell_type": "markdown",
   "metadata": {},
   "source": [
    "## Linear Modeling"
   ]
  },
  {
   "cell_type": "markdown",
   "metadata": {},
   "source": [
    "1. We want to predict the used price of a phone within the dataframe\n",
    "2. Before we proceed to building a linear model, we'll have to encode categorical features\n",
    "    - Since *brand_name* has 34 unique categories, the resulting number of dummy variables would unnecessarily complicate the results of the model; therefore, I will drop this variable and rely on *country_of_origin* to capture this variable's potential effects\n",
    "3. We'll split 70% of the rows into a train dataset and the remaining 30% into a test dataframe\n",
    "4. We will build a linear regression model using the train data, then check it's performance against the test data\n",
    "5. Because we know that *used_log* and *new_log* are transformations of used price and new price, we can drop these variables from the model"
   ]
  },
  {
   "cell_type": "code",
   "execution_count": 52,
   "metadata": {},
   "outputs": [],
   "source": [
    "#define our independent (i.e. predictor) variables, X, and our dependent variable, y\n",
    "X = df_model.drop(['used_price','new_price','used_log','brand_name'], axis=1)\n",
    "y = df_model['used_log']"
   ]
  },
  {
   "cell_type": "code",
   "execution_count": 53,
   "metadata": {},
   "outputs": [
    {
     "data": {
      "text/html": [
       "<div>\n",
       "<style scoped>\n",
       "    .dataframe tbody tr th:only-of-type {\n",
       "        vertical-align: middle;\n",
       "    }\n",
       "\n",
       "    .dataframe tbody tr th {\n",
       "        vertical-align: top;\n",
       "    }\n",
       "\n",
       "    .dataframe thead th {\n",
       "        text-align: right;\n",
       "    }\n",
       "</style>\n",
       "<table border=\"1\" class=\"dataframe\">\n",
       "  <thead>\n",
       "    <tr style=\"text-align: right;\">\n",
       "      <th></th>\n",
       "      <th>screen_size</th>\n",
       "      <th>main_camera_mp</th>\n",
       "      <th>selfie_camera_mp</th>\n",
       "      <th>int_memory</th>\n",
       "      <th>ram</th>\n",
       "      <th>battery</th>\n",
       "      <th>weight</th>\n",
       "      <th>release_year</th>\n",
       "      <th>days_used</th>\n",
       "      <th>new_log</th>\n",
       "      <th>...</th>\n",
       "      <th>5g_yes</th>\n",
       "      <th>country_of_brand_China</th>\n",
       "      <th>country_of_brand_Finland</th>\n",
       "      <th>country_of_brand_Hong Kong</th>\n",
       "      <th>country_of_brand_India</th>\n",
       "      <th>country_of_brand_Japan</th>\n",
       "      <th>country_of_brand_None</th>\n",
       "      <th>country_of_brand_South Korea</th>\n",
       "      <th>country_of_brand_Taiwan</th>\n",
       "      <th>country_of_brand_USA</th>\n",
       "    </tr>\n",
       "  </thead>\n",
       "  <tbody>\n",
       "    <tr>\n",
       "      <th>4</th>\n",
       "      <td>15.72</td>\n",
       "      <td>13.00</td>\n",
       "      <td>8.00</td>\n",
       "      <td>64.00</td>\n",
       "      <td>3.00</td>\n",
       "      <td>5000.00</td>\n",
       "      <td>185.00</td>\n",
       "      <td>2020</td>\n",
       "      <td>293</td>\n",
       "      <td>4.95</td>\n",
       "      <td>...</td>\n",
       "      <td>0</td>\n",
       "      <td>1</td>\n",
       "      <td>0</td>\n",
       "      <td>0</td>\n",
       "      <td>0</td>\n",
       "      <td>0</td>\n",
       "      <td>0</td>\n",
       "      <td>0</td>\n",
       "      <td>0</td>\n",
       "      <td>0</td>\n",
       "    </tr>\n",
       "    <tr>\n",
       "      <th>6</th>\n",
       "      <td>19.84</td>\n",
       "      <td>8.00</td>\n",
       "      <td>5.00</td>\n",
       "      <td>32.00</td>\n",
       "      <td>2.00</td>\n",
       "      <td>3020.00</td>\n",
       "      <td>144.00</td>\n",
       "      <td>2020</td>\n",
       "      <td>234</td>\n",
       "      <td>4.52</td>\n",
       "      <td>...</td>\n",
       "      <td>0</td>\n",
       "      <td>1</td>\n",
       "      <td>0</td>\n",
       "      <td>0</td>\n",
       "      <td>0</td>\n",
       "      <td>0</td>\n",
       "      <td>0</td>\n",
       "      <td>0</td>\n",
       "      <td>0</td>\n",
       "      <td>0</td>\n",
       "    </tr>\n",
       "    <tr>\n",
       "      <th>7</th>\n",
       "      <td>18.57</td>\n",
       "      <td>13.00</td>\n",
       "      <td>8.00</td>\n",
       "      <td>64.00</td>\n",
       "      <td>4.00</td>\n",
       "      <td>3400.00</td>\n",
       "      <td>164.00</td>\n",
       "      <td>2020</td>\n",
       "      <td>219</td>\n",
       "      <td>5.19</td>\n",
       "      <td>...</td>\n",
       "      <td>0</td>\n",
       "      <td>1</td>\n",
       "      <td>0</td>\n",
       "      <td>0</td>\n",
       "      <td>0</td>\n",
       "      <td>0</td>\n",
       "      <td>0</td>\n",
       "      <td>0</td>\n",
       "      <td>0</td>\n",
       "      <td>0</td>\n",
       "    </tr>\n",
       "    <tr>\n",
       "      <th>8</th>\n",
       "      <td>15.72</td>\n",
       "      <td>13.00</td>\n",
       "      <td>16.00</td>\n",
       "      <td>128.00</td>\n",
       "      <td>6.00</td>\n",
       "      <td>4000.00</td>\n",
       "      <td>165.00</td>\n",
       "      <td>2020</td>\n",
       "      <td>161</td>\n",
       "      <td>5.30</td>\n",
       "      <td>...</td>\n",
       "      <td>0</td>\n",
       "      <td>1</td>\n",
       "      <td>0</td>\n",
       "      <td>0</td>\n",
       "      <td>0</td>\n",
       "      <td>0</td>\n",
       "      <td>0</td>\n",
       "      <td>0</td>\n",
       "      <td>0</td>\n",
       "      <td>0</td>\n",
       "    </tr>\n",
       "    <tr>\n",
       "      <th>10</th>\n",
       "      <td>16.67</td>\n",
       "      <td>13.00</td>\n",
       "      <td>8.00</td>\n",
       "      <td>64.00</td>\n",
       "      <td>3.00</td>\n",
       "      <td>3020.00</td>\n",
       "      <td>150.00</td>\n",
       "      <td>2020</td>\n",
       "      <td>268</td>\n",
       "      <td>4.71</td>\n",
       "      <td>...</td>\n",
       "      <td>0</td>\n",
       "      <td>1</td>\n",
       "      <td>0</td>\n",
       "      <td>0</td>\n",
       "      <td>0</td>\n",
       "      <td>0</td>\n",
       "      <td>0</td>\n",
       "      <td>0</td>\n",
       "      <td>0</td>\n",
       "      <td>0</td>\n",
       "    </tr>\n",
       "  </tbody>\n",
       "</table>\n",
       "<p>5 rows × 24 columns</p>\n",
       "</div>"
      ],
      "text/plain": [
       "    screen_size  main_camera_mp  selfie_camera_mp  int_memory  ram  battery  \\\n",
       "4         15.72           13.00              8.00       64.00 3.00  5000.00   \n",
       "6         19.84            8.00              5.00       32.00 2.00  3020.00   \n",
       "7         18.57           13.00              8.00       64.00 4.00  3400.00   \n",
       "8         15.72           13.00             16.00      128.00 6.00  4000.00   \n",
       "10        16.67           13.00              8.00       64.00 3.00  3020.00   \n",
       "\n",
       "    weight  release_year  days_used  new_log  ...  5g_yes  \\\n",
       "4   185.00          2020        293     4.95  ...       0   \n",
       "6   144.00          2020        234     4.52  ...       0   \n",
       "7   164.00          2020        219     5.19  ...       0   \n",
       "8   165.00          2020        161     5.30  ...       0   \n",
       "10  150.00          2020        268     4.71  ...       0   \n",
       "\n",
       "    country_of_brand_China  country_of_brand_Finland  \\\n",
       "4                        1                         0   \n",
       "6                        1                         0   \n",
       "7                        1                         0   \n",
       "8                        1                         0   \n",
       "10                       1                         0   \n",
       "\n",
       "    country_of_brand_Hong Kong  country_of_brand_India  \\\n",
       "4                            0                       0   \n",
       "6                            0                       0   \n",
       "7                            0                       0   \n",
       "8                            0                       0   \n",
       "10                           0                       0   \n",
       "\n",
       "    country_of_brand_Japan  country_of_brand_None  \\\n",
       "4                        0                      0   \n",
       "6                        0                      0   \n",
       "7                        0                      0   \n",
       "8                        0                      0   \n",
       "10                       0                      0   \n",
       "\n",
       "    country_of_brand_South Korea  country_of_brand_Taiwan  \\\n",
       "4                              0                        0   \n",
       "6                              0                        0   \n",
       "7                              0                        0   \n",
       "8                              0                        0   \n",
       "10                             0                        0   \n",
       "\n",
       "    country_of_brand_USA  \n",
       "4                      0  \n",
       "6                      0  \n",
       "7                      0  \n",
       "8                      0  \n",
       "10                     0  \n",
       "\n",
       "[5 rows x 24 columns]"
      ]
     },
     "execution_count": 53,
     "metadata": {},
     "output_type": "execute_result"
    }
   ],
   "source": [
    "#create dummy variables for all categorical variables\n",
    "X = pd.get_dummies(X,\n",
    "    columns=X.select_dtypes(include=[\"category\"]).columns.tolist(),\n",
    "    drop_first=True,\n",
    ")\n",
    "X.head()"
   ]
  },
  {
   "cell_type": "code",
   "execution_count": 54,
   "metadata": {},
   "outputs": [],
   "source": [
    "# splitting the data in 70:30 ratio for train to test data\n",
    "\n",
    "x_train, x_test, y_train, y_test = train_test_split(\n",
    "    X, y, test_size=0.3, random_state=1\n",
    ")"
   ]
  },
  {
   "cell_type": "code",
   "execution_count": 55,
   "metadata": {},
   "outputs": [
    {
     "name": "stdout",
     "output_type": "stream",
     "text": [
      "Number of rows in train data = 2034\n",
      "Number of rows in test data = 873\n"
     ]
    }
   ],
   "source": [
    "print(\"Number of rows in train data =\", x_train.shape[0])\n",
    "print(\"Number of rows in test data =\", x_test.shape[0])"
   ]
  },
  {
   "cell_type": "code",
   "execution_count": 56,
   "metadata": {
    "scrolled": false
   },
   "outputs": [
    {
     "name": "stdout",
     "output_type": "stream",
     "text": [
      "                            OLS Regression Results                            \n",
      "==============================================================================\n",
      "Dep. Variable:               used_log   R-squared:                       0.989\n",
      "Model:                            OLS   Adj. R-squared:                  0.988\n",
      "Method:                 Least Squares   F-statistic:                     7263.\n",
      "Date:                Fri, 22 Oct 2021   Prob (F-statistic):               0.00\n",
      "Time:                        15:32:54   Log-Likelihood:                 2174.1\n",
      "No. Observations:                2034   AIC:                            -4298.\n",
      "Df Residuals:                    2009   BIC:                            -4158.\n",
      "Df Model:                          24                                         \n",
      "Covariance Type:            nonrobust                                         \n",
      "================================================================================================\n",
      "                                   coef    std err          t      P>|t|      [0.025      0.975]\n",
      "------------------------------------------------------------------------------------------------\n",
      "const                          -11.8061      3.609     -3.272      0.001     -18.883      -4.729\n",
      "screen_size                      0.0013      0.001      1.018      0.309      -0.001       0.004\n",
      "main_camera_mp                   0.0002      0.001      0.369      0.712      -0.001       0.001\n",
      "selfie_camera_mp                 0.0006      0.000      1.236      0.217      -0.000       0.002\n",
      "int_memory                    2.416e-05   2.53e-05      0.957      0.339   -2.54e-05    7.37e-05\n",
      "ram                              0.0012      0.002      0.631      0.528      -0.003       0.005\n",
      "battery                      -1.625e-06   3.31e-06     -0.490      0.624   -8.12e-06    4.87e-06\n",
      "weight                        3.375e-07   6.87e-05      0.005      0.996      -0.000       0.000\n",
      "release_year                     0.0058      0.002      3.241      0.001       0.002       0.009\n",
      "days_used                       -0.0011   1.15e-05    -95.384      0.000      -0.001      -0.001\n",
      "new_log                          0.9913      0.005    219.433      0.000       0.982       1.000\n",
      "os_Others                       -0.0008      0.011     -0.077      0.939      -0.022       0.021\n",
      "os_Windows                      -0.0048      0.014     -0.354      0.724      -0.031       0.022\n",
      "os_iOS                          -0.0064      0.019     -0.336      0.737      -0.044       0.031\n",
      "4g_yes                          -0.0084      0.006     -1.384      0.166      -0.020       0.003\n",
      "5g_yes                           0.0249      0.017      1.493      0.136      -0.008       0.058\n",
      "country_of_brand_China           0.0028      0.025      0.111      0.912      -0.047       0.053\n",
      "country_of_brand_Finland        -0.0058      0.027     -0.217      0.828      -0.058       0.047\n",
      "country_of_brand_Hong Kong      -0.0081      0.027     -0.305      0.760      -0.061       0.044\n",
      "country_of_brand_India           0.0070      0.026      0.268      0.789      -0.044       0.058\n",
      "country_of_brand_Japan           0.0110      0.027      0.412      0.680      -0.041       0.064\n",
      "country_of_brand_None            0.0098      0.026      0.384      0.701      -0.040       0.060\n",
      "country_of_brand_South Korea     0.0163      0.025      0.643      0.520      -0.033       0.066\n",
      "country_of_brand_Taiwan          0.0191      0.026      0.737      0.461      -0.032       0.070\n",
      "country_of_brand_USA             0.0083      0.027      0.311      0.756      -0.044       0.061\n",
      "==============================================================================\n",
      "Omnibus:                       57.650   Durbin-Watson:                   1.962\n",
      "Prob(Omnibus):                  0.000   Jarque-Bera (JB):               58.002\n",
      "Skew:                          -0.385   Prob(JB):                     2.54e-13\n",
      "Kurtosis:                       2.699   Cond. No.                     7.04e+06\n",
      "==============================================================================\n",
      "\n",
      "Notes:\n",
      "[1] Standard Errors assume that the covariance matrix of the errors is correctly specified.\n",
      "[2] The condition number is large, 7.04e+06. This might indicate that there are\n",
      "strong multicollinearity or other numerical problems.\n"
     ]
    }
   ],
   "source": [
    "x_train1 = sm.add_constant(x_train)\n",
    "# adding constant to the test data\n",
    "x_test1 = sm.add_constant(x_test)\n",
    "\n",
    "olsmod0 = sm.OLS(y_train, x_train1).fit()\n",
    "print(olsmod0.summary())"
   ]
  },
  {
   "cell_type": "markdown",
   "metadata": {},
   "source": [
    "**Observations**\n",
    "\n",
    "- The training $R^2$ is **98.8%**, indicating that the model explains 98.8% of the variation in the train data; therefore, I can conclude the model is not underfitting\n",
    "- Negative values of the coefficient show that *used_log* decreases with the increase of corresponding attribute value\n",
    "- Positive values of the coefficient show that *used_log* increases with the increase of corresponding attribute value\n",
    "- The p-value of a variable indicates if the variable is significant or not\n",
    "- If we consider the significance level to be 0.05 (5%), then any variable with a p-value less than 0.05 would be considered significant to the linear model\n",
    "- But these variables might contain multicollinearity or violate other assumptions of linear regression, which will affect the p-values"
   ]
  },
  {
   "cell_type": "markdown",
   "metadata": {},
   "source": [
    "## Linear Regression Assumptions\n",
    "\n",
    "Verify the following Linear Regression assumptions:\n",
    "\n",
    "1. **No Multicollinearity**\n",
    "\n",
    "2. **Linearity of variables**\n",
    "\n",
    "3. **Independence of error terms**\n",
    "\n",
    "4. **Normality of error terms**\n",
    "\n",
    "5. **No Heteroscedasticity**"
   ]
  },
  {
   "cell_type": "markdown",
   "metadata": {},
   "source": [
    "### Test For Multicollinearity\n",
    "\n",
    "* **VIF standards**:\n",
    "    - If VIF is between 1 and 5, then there is low multicollinearity.\n",
    "    - If VIF is between 5 and 10, we say there is moderate multicollinearity.\n",
    "    - If VIF is exceeding 10, it shows signs of high multicollinearity."
   ]
  },
  {
   "cell_type": "code",
   "execution_count": 57,
   "metadata": {},
   "outputs": [],
   "source": [
    "from statsmodels.stats.outliers_influence import variance_inflation_factor\n",
    "\n",
    "# defining a function to check VIF\n",
    "def checking_vif(predictors):\n",
    "    vif = pd.DataFrame()\n",
    "    vif[\"feature\"] = predictors.columns\n",
    "\n",
    "    # calculating VIF for each feature\n",
    "    vif[\"VIF\"] = [\n",
    "        variance_inflation_factor(predictors.values, i)\n",
    "        for i in range(len(predictors.columns))\n",
    "    ]\n",
    "    return vif"
   ]
  },
  {
   "cell_type": "code",
   "execution_count": 58,
   "metadata": {
    "scrolled": true
   },
   "outputs": [
    {
     "data": {
      "text/html": [
       "<div>\n",
       "<style scoped>\n",
       "    .dataframe tbody tr th:only-of-type {\n",
       "        vertical-align: middle;\n",
       "    }\n",
       "\n",
       "    .dataframe tbody tr th {\n",
       "        vertical-align: top;\n",
       "    }\n",
       "\n",
       "    .dataframe thead th {\n",
       "        text-align: right;\n",
       "    }\n",
       "</style>\n",
       "<table border=\"1\" class=\"dataframe\">\n",
       "  <thead>\n",
       "    <tr style=\"text-align: right;\">\n",
       "      <th></th>\n",
       "      <th>feature</th>\n",
       "      <th>VIF</th>\n",
       "    </tr>\n",
       "  </thead>\n",
       "  <tbody>\n",
       "    <tr>\n",
       "      <th>0</th>\n",
       "      <td>const</td>\n",
       "      <td>3789498.29</td>\n",
       "    </tr>\n",
       "    <tr>\n",
       "      <th>16</th>\n",
       "      <td>country_of_brand_China</td>\n",
       "      <td>39.93</td>\n",
       "    </tr>\n",
       "    <tr>\n",
       "      <th>22</th>\n",
       "      <td>country_of_brand_South Korea</td>\n",
       "      <td>26.17</td>\n",
       "    </tr>\n",
       "    <tr>\n",
       "      <th>21</th>\n",
       "      <td>country_of_brand_None</td>\n",
       "      <td>24.08</td>\n",
       "    </tr>\n",
       "    <tr>\n",
       "      <th>19</th>\n",
       "      <td>country_of_brand_India</td>\n",
       "      <td>18.54</td>\n",
       "    </tr>\n",
       "    <tr>\n",
       "      <th>23</th>\n",
       "      <td>country_of_brand_Taiwan</td>\n",
       "      <td>15.17</td>\n",
       "    </tr>\n",
       "    <tr>\n",
       "      <th>24</th>\n",
       "      <td>country_of_brand_USA</td>\n",
       "      <td>11.99</td>\n",
       "    </tr>\n",
       "    <tr>\n",
       "      <th>18</th>\n",
       "      <td>country_of_brand_Hong Kong</td>\n",
       "      <td>8.50</td>\n",
       "    </tr>\n",
       "    <tr>\n",
       "      <th>20</th>\n",
       "      <td>country_of_brand_Japan</td>\n",
       "      <td>8.16</td>\n",
       "    </tr>\n",
       "    <tr>\n",
       "      <th>17</th>\n",
       "      <td>country_of_brand_Finland</td>\n",
       "      <td>6.87</td>\n",
       "    </tr>\n",
       "    <tr>\n",
       "      <th>8</th>\n",
       "      <td>release_year</td>\n",
       "      <td>4.37</td>\n",
       "    </tr>\n",
       "    <tr>\n",
       "      <th>1</th>\n",
       "      <td>screen_size</td>\n",
       "      <td>3.81</td>\n",
       "    </tr>\n",
       "    <tr>\n",
       "      <th>6</th>\n",
       "      <td>battery</td>\n",
       "      <td>3.28</td>\n",
       "    </tr>\n",
       "    <tr>\n",
       "      <th>10</th>\n",
       "      <td>new_log</td>\n",
       "      <td>2.78</td>\n",
       "    </tr>\n",
       "    <tr>\n",
       "      <th>3</th>\n",
       "      <td>selfie_camera_mp</td>\n",
       "      <td>2.67</td>\n",
       "    </tr>\n",
       "    <tr>\n",
       "      <th>7</th>\n",
       "      <td>weight</td>\n",
       "      <td>2.66</td>\n",
       "    </tr>\n",
       "    <tr>\n",
       "      <th>14</th>\n",
       "      <td>4g_yes</td>\n",
       "      <td>2.45</td>\n",
       "    </tr>\n",
       "    <tr>\n",
       "      <th>2</th>\n",
       "      <td>main_camera_mp</td>\n",
       "      <td>2.23</td>\n",
       "    </tr>\n",
       "    <tr>\n",
       "      <th>9</th>\n",
       "      <td>days_used</td>\n",
       "      <td>2.12</td>\n",
       "    </tr>\n",
       "    <tr>\n",
       "      <th>11</th>\n",
       "      <td>os_Others</td>\n",
       "      <td>1.80</td>\n",
       "    </tr>\n",
       "    <tr>\n",
       "      <th>5</th>\n",
       "      <td>ram</td>\n",
       "      <td>1.71</td>\n",
       "    </tr>\n",
       "    <tr>\n",
       "      <th>15</th>\n",
       "      <td>5g_yes</td>\n",
       "      <td>1.63</td>\n",
       "    </tr>\n",
       "    <tr>\n",
       "      <th>13</th>\n",
       "      <td>os_iOS</td>\n",
       "      <td>1.39</td>\n",
       "    </tr>\n",
       "    <tr>\n",
       "      <th>4</th>\n",
       "      <td>int_memory</td>\n",
       "      <td>1.21</td>\n",
       "    </tr>\n",
       "    <tr>\n",
       "      <th>12</th>\n",
       "      <td>os_Windows</td>\n",
       "      <td>1.16</td>\n",
       "    </tr>\n",
       "  </tbody>\n",
       "</table>\n",
       "</div>"
      ],
      "text/plain": [
       "                         feature        VIF\n",
       "0                          const 3789498.29\n",
       "16        country_of_brand_China      39.93\n",
       "22  country_of_brand_South Korea      26.17\n",
       "21         country_of_brand_None      24.08\n",
       "19        country_of_brand_India      18.54\n",
       "23       country_of_brand_Taiwan      15.17\n",
       "24          country_of_brand_USA      11.99\n",
       "18    country_of_brand_Hong Kong       8.50\n",
       "20        country_of_brand_Japan       8.16\n",
       "17      country_of_brand_Finland       6.87\n",
       "8                   release_year       4.37\n",
       "1                    screen_size       3.81\n",
       "6                        battery       3.28\n",
       "10                       new_log       2.78\n",
       "3               selfie_camera_mp       2.67\n",
       "7                         weight       2.66\n",
       "14                        4g_yes       2.45\n",
       "2                 main_camera_mp       2.23\n",
       "9                      days_used       2.12\n",
       "11                     os_Others       1.80\n",
       "5                            ram       1.71\n",
       "15                        5g_yes       1.63\n",
       "13                        os_iOS       1.39\n",
       "4                     int_memory       1.21\n",
       "12                    os_Windows       1.16"
      ]
     },
     "execution_count": 58,
     "metadata": {},
     "output_type": "execute_result"
    }
   ],
   "source": [
    "checking_vif(x_train1).sort_values(by='VIF', ascending=False)"
   ]
  },
  {
   "cell_type": "markdown",
   "metadata": {},
   "source": [
    "- Excluding the dummy variables, no other predictor variables show a VIF above 5"
   ]
  },
  {
   "cell_type": "markdown",
   "metadata": {},
   "source": [
    "**The above predictors have no multicollinearity and the assumption is satisfied.**"
   ]
  },
  {
   "cell_type": "markdown",
   "metadata": {},
   "source": [
    "**Observations**\n",
    "\n",
    "- As there is no multicollinearity, we can look at the p-values of predictor variables to check their significance\n",
    "\n",
    "- Interestingly (and slightly concerning), the only variables which meet our p-value threshold (exluding the constant) are *release_year*, *days_used*, and *new_log*\n",
    "- Therefore, I could conclude that all of the other variables are not significant and should be dropped from the model\n",
    "- However, sometimes p-values change after dropping a variable, so I will do the following:\n",
    "    - Build a model, check the p-values of the variables, and drop the column with the highest p-value\n",
    "    - Create a new model without the dropped feature, check the p-values of the variables, and drop the column with the highest p-value\n",
    "    - Repeat the above two steps till there are no columns with p-value > 0.05"
   ]
  },
  {
   "cell_type": "code",
   "execution_count": 59,
   "metadata": {},
   "outputs": [
    {
     "name": "stdout",
     "output_type": "stream",
     "text": [
      "['const', 'release_year', 'days_used', 'new_log', '5g_yes', 'country_of_brand_South Korea', 'country_of_brand_Taiwan']\n"
     ]
    }
   ],
   "source": [
    "# Below is a loop designed to complete the process outlined above\n",
    "# initial list of columns\n",
    "cols = x_train1.columns.tolist()\n",
    "\n",
    "# setting an initial max p-value\n",
    "max_p_value = 1\n",
    "\n",
    "while len(cols) > 0:\n",
    "    # defining the train set\n",
    "    x_train_aux = x_train1[cols]\n",
    "\n",
    "    # fitting the model\n",
    "    model = sm.OLS(y_train, x_train_aux).fit()\n",
    "\n",
    "    # getting the p-values and the maximum p-value\n",
    "    p_values = model.pvalues\n",
    "    max_p_value = max(p_values)\n",
    "\n",
    "    # name of the variable with maximum p-value\n",
    "    feature_with_p_max = p_values.idxmax()\n",
    "\n",
    "    if max_p_value > 0.05:\n",
    "        cols.remove(feature_with_p_max)\n",
    "    else:\n",
    "        break\n",
    "\n",
    "selected_features = cols\n",
    "print(selected_features)"
   ]
  },
  {
   "cell_type": "markdown",
   "metadata": {},
   "source": [
    "* Of the original 24 predictor variables, only **six** (excluding the constant) are shown to be statistically significant"
   ]
  },
  {
   "cell_type": "code",
   "execution_count": 60,
   "metadata": {},
   "outputs": [],
   "source": [
    "x_train2 = x_train1[selected_features]\n",
    "x_test2 = x_test1[selected_features]"
   ]
  },
  {
   "cell_type": "code",
   "execution_count": 61,
   "metadata": {},
   "outputs": [
    {
     "name": "stdout",
     "output_type": "stream",
     "text": [
      "                            OLS Regression Results                            \n",
      "==============================================================================\n",
      "Dep. Variable:               used_log   R-squared:                       0.989\n",
      "Model:                            OLS   Adj. R-squared:                  0.988\n",
      "Method:                 Least Squares   F-statistic:                 2.911e+04\n",
      "Date:                Fri, 22 Oct 2021   Prob (F-statistic):               0.00\n",
      "Time:                        15:32:54   Log-Likelihood:                 2167.1\n",
      "No. Observations:                2034   AIC:                            -4320.\n",
      "Df Residuals:                    2027   BIC:                            -4281.\n",
      "Df Model:                           6                                         \n",
      "Covariance Type:            nonrobust                                         \n",
      "================================================================================================\n",
      "                                   coef    std err          t      P>|t|      [0.025      0.975]\n",
      "------------------------------------------------------------------------------------------------\n",
      "const                          -12.2334      2.462     -4.970      0.000     -17.061      -7.406\n",
      "release_year                     0.0060      0.001      4.932      0.000       0.004       0.008\n",
      "days_used                       -0.0011   1.11e-05    -99.425      0.000      -0.001      -0.001\n",
      "new_log                          0.9935      0.003    340.475      0.000       0.988       0.999\n",
      "5g_yes                           0.0351      0.014      2.507      0.012       0.008       0.063\n",
      "country_of_brand_South Korea     0.0099      0.005      1.961      0.050    6.38e-07       0.020\n",
      "country_of_brand_Taiwan          0.0140      0.007      2.066      0.039       0.001       0.027\n",
      "==============================================================================\n",
      "Omnibus:                       57.718   Durbin-Watson:                   1.959\n",
      "Prob(Omnibus):                  0.000   Jarque-Bera (JB):               61.439\n",
      "Skew:                          -0.416   Prob(JB):                     4.56e-14\n",
      "Kurtosis:                       2.820   Cond. No.                     2.84e+06\n",
      "==============================================================================\n",
      "\n",
      "Notes:\n",
      "[1] Standard Errors assume that the covariance matrix of the errors is correctly specified.\n",
      "[2] The condition number is large, 2.84e+06. This might indicate that there are\n",
      "strong multicollinearity or other numerical problems.\n"
     ]
    }
   ],
   "source": [
    "olsmod2 = sm.OLS(y_train, x_train2).fit()\n",
    "print(olsmod2.summary())"
   ]
  },
  {
   "cell_type": "markdown",
   "metadata": {},
   "source": [
    "**As shown above, no feature has p-value greater than 0.05, so I'll consider the features in *x_train2* and the model *olsmod2* as final**\n",
    "\n",
    "**Additional observations**\n",
    "* The adjusted R-squared is 0.988, i.e., our model is able to explain 98.8% of the variance\n",
    "* Considering the adjusted R-squared in *olsmod0* was also 0.988, this shows that the 18 variables we dropped were not affecting the original model to any observable extent\n",
    "* This process has resulted in a suprisingly simple model"
   ]
  },
  {
   "cell_type": "markdown",
   "metadata": {},
   "source": [
    "### Test for Linearity and Independence\n",
    "**Process for determining linearity and independence**\n",
    "- Make a plot of fitted values vs residuals\n",
    "- If they don't follow any pattern, then we conclude the model is linear and residuals are independent\n",
    "- Otherwise, the model is showing signs of non-linearity and residuals are not independent\n",
    "\n",
    "**Process for fixing variables if this assumption is not followed**\n",
    "- Transform the variables and make the relationships linear"
   ]
  },
  {
   "cell_type": "code",
   "execution_count": 62,
   "metadata": {},
   "outputs": [
    {
     "data": {
      "text/html": [
       "<div>\n",
       "<style scoped>\n",
       "    .dataframe tbody tr th:only-of-type {\n",
       "        vertical-align: middle;\n",
       "    }\n",
       "\n",
       "    .dataframe tbody tr th {\n",
       "        vertical-align: top;\n",
       "    }\n",
       "\n",
       "    .dataframe thead th {\n",
       "        text-align: right;\n",
       "    }\n",
       "</style>\n",
       "<table border=\"1\" class=\"dataframe\">\n",
       "  <thead>\n",
       "    <tr style=\"text-align: right;\">\n",
       "      <th></th>\n",
       "      <th>Actual Values</th>\n",
       "      <th>Fitted Values</th>\n",
       "      <th>Residuals</th>\n",
       "    </tr>\n",
       "  </thead>\n",
       "  <tbody>\n",
       "    <tr>\n",
       "      <th>751</th>\n",
       "      <td>4.10</td>\n",
       "      <td>4.04</td>\n",
       "      <td>0.06</td>\n",
       "    </tr>\n",
       "    <tr>\n",
       "      <th>1172</th>\n",
       "      <td>3.87</td>\n",
       "      <td>3.91</td>\n",
       "      <td>-0.04</td>\n",
       "    </tr>\n",
       "    <tr>\n",
       "      <th>2130</th>\n",
       "      <td>4.00</td>\n",
       "      <td>3.94</td>\n",
       "      <td>0.06</td>\n",
       "    </tr>\n",
       "    <tr>\n",
       "      <th>1175</th>\n",
       "      <td>3.99</td>\n",
       "      <td>4.14</td>\n",
       "      <td>-0.15</td>\n",
       "    </tr>\n",
       "    <tr>\n",
       "      <th>2908</th>\n",
       "      <td>3.30</td>\n",
       "      <td>3.31</td>\n",
       "      <td>-0.00</td>\n",
       "    </tr>\n",
       "  </tbody>\n",
       "</table>\n",
       "</div>"
      ],
      "text/plain": [
       "      Actual Values  Fitted Values  Residuals\n",
       "751            4.10           4.04       0.06\n",
       "1172           3.87           3.91      -0.04\n",
       "2130           4.00           3.94       0.06\n",
       "1175           3.99           4.14      -0.15\n",
       "2908           3.30           3.31      -0.00"
      ]
     },
     "execution_count": 62,
     "metadata": {},
     "output_type": "execute_result"
    }
   ],
   "source": [
    "#create a dataframe with actual, fitted and residual values\n",
    "df_pred = pd.DataFrame()\n",
    "\n",
    "df_pred[\"Actual Values\"] = y_train  # actual values\n",
    "df_pred[\"Fitted Values\"] = olsmod2.fittedvalues  # predicted values\n",
    "df_pred[\"Residuals\"] = olsmod2.resid  # residuals\n",
    "\n",
    "df_pred.head()"
   ]
  },
  {
   "cell_type": "code",
   "execution_count": 63,
   "metadata": {},
   "outputs": [
    {
     "data": {
      "image/png": "[encoded data removed]",
      "text/plain": [
       "<Figure size 432x288 with 1 Axes>"
      ]
     },
     "metadata": {},
     "output_type": "display_data"
    }
   ],
   "source": [
    "#plot a scatter plot to show the distribution of residuals (errors) vs fitted values (predicted values)\n",
    "\n",
    "sns.residplot(\n",
    "    data=df_pred, x=\"Fitted Values\", y=\"Residuals\", color=\"purple\", lowess=True\n",
    ")\n",
    "plt.xlabel(\"Fitted Values\")\n",
    "plt.ylabel(\"Residuals\")\n",
    "plt.title(\"Fitted vs Residual plot\")\n",
    "plt.show()"
   ]
  },
  {
   "cell_type": "markdown",
   "metadata": {},
   "source": [
    "**There is not discernable pattern in the plot above; therefore the assumptions of linearity and independence are satisfied**"
   ]
  },
  {
   "cell_type": "markdown",
   "metadata": {},
   "source": [
    "### Test for Normality\n",
    "**Process for determining normality**\n",
    "- The shape of the histogram of residuals can give an initial idea about the normality\n",
    "- It can also be checked via a Q-Q plot of residuals\n",
    "    - If the residuals follow a normal distribution, they will make a straight line plot, otherwise not\n",
    "\n",
    "**Process for fixing variables if this assumption is not followed**\n",
    "- Apply transformations like log, exponential, arcsinh, etc. as per our data"
   ]
  },
  {
   "cell_type": "code",
   "execution_count": 64,
   "metadata": {},
   "outputs": [
    {
     "data": {
      "image/png": "[encoded data removed]",
      "text/plain": [
       "<Figure size 432x288 with 1 Axes>"
      ]
     },
     "metadata": {},
     "output_type": "display_data"
    }
   ],
   "source": [
    "#create a histogram of the residuals\n",
    "sns.histplot(data=df_pred, x=\"Residuals\", kde=True)\n",
    "plt.title(\"Normality of residuals\")\n",
    "plt.show()"
   ]
  },
  {
   "cell_type": "markdown",
   "metadata": {},
   "source": [
    "- The histogram of residuals does not have an exact bell shape, but is close enough for the purposes of the test"
   ]
  },
  {
   "cell_type": "code",
   "execution_count": 65,
   "metadata": {},
   "outputs": [
    {
     "data": {
      "image/png": "[encoded data removed]",
      "text/plain": [
       "<Figure size 432x288 with 1 Axes>"
      ]
     },
     "metadata": {},
     "output_type": "display_data"
    }
   ],
   "source": [
    "#create a Q-Q plot of residuals\n",
    "import pylab\n",
    "import scipy.stats as stats\n",
    "\n",
    "stats.probplot(df_pred[\"Residuals\"], dist=\"norm\", plot=pylab)\n",
    "plt.show()"
   ]
  },
  {
   "cell_type": "markdown",
   "metadata": {},
   "source": [
    "- The residuals follow a straight line until the tails of the Q-Q plot"
   ]
  },
  {
   "cell_type": "markdown",
   "metadata": {},
   "source": [
    "**As an approximation, I can accept this distribution as being normal; therefore, the assumption is satisfied.**"
   ]
  },
  {
   "cell_type": "markdown",
   "metadata": {},
   "source": [
    "### Test for Homoscedasticity\n",
    "**Process for determining homoscedasticity**\n",
    "* The residual vs fitted values plot can be looked at to check for homoscedasticity\n",
    "    - In the case of heteroscedasticity, the residuals can form an arrow shape or any other non-symmetrical shape\n",
    "* The goldfeldquandt test can also be used\n",
    "    - If we get a p-value > 0.05 we can say that the residuals are homoscedastic \n",
    "        - Null hypothesis: Residuals are homoscedastic\n",
    "        - Alternate hypothesis: Residuals have heteroscedasticity\n",
    "\n",
    "**Process for fixing variables if this assumption is not followed**\n",
    "- Heteroscedasticity can be fixed by adding other important features or making transformations"
   ]
  },
  {
   "cell_type": "code",
   "execution_count": 66,
   "metadata": {},
   "outputs": [
    {
     "data": {
      "text/plain": [
       "[('F statistic', 0.9566041352241388), ('p-value', 0.7595256244598054)]"
      ]
     },
     "execution_count": 66,
     "metadata": {},
     "output_type": "execute_result"
    }
   ],
   "source": [
    "import statsmodels.stats.api as sms\n",
    "from statsmodels.compat import lzip\n",
    "\n",
    "name = [\"F statistic\", \"p-value\"]\n",
    "test = sms.het_goldfeldquandt(df_pred[\"Residuals\"], x_train2)\n",
    "lzip(name, test)"
   ]
  },
  {
   "cell_type": "markdown",
   "metadata": {},
   "source": [
    "**Since p-value > 0.05, we can say that the residuals are homoscedastic; therefore, this assumption is satisfied**"
   ]
  },
  {
   "cell_type": "markdown",
   "metadata": {},
   "source": [
    "## Predictions"
   ]
  },
  {
   "cell_type": "code",
   "execution_count": 67,
   "metadata": {},
   "outputs": [
    {
     "data": {
      "text/html": [
       "<div>\n",
       "<style scoped>\n",
       "    .dataframe tbody tr th:only-of-type {\n",
       "        vertical-align: middle;\n",
       "    }\n",
       "\n",
       "    .dataframe tbody tr th {\n",
       "        vertical-align: top;\n",
       "    }\n",
       "\n",
       "    .dataframe thead th {\n",
       "        text-align: right;\n",
       "    }\n",
       "</style>\n",
       "<table border=\"1\" class=\"dataframe\">\n",
       "  <thead>\n",
       "    <tr style=\"text-align: right;\">\n",
       "      <th></th>\n",
       "      <th>Actual</th>\n",
       "      <th>Predicted</th>\n",
       "    </tr>\n",
       "  </thead>\n",
       "  <tbody>\n",
       "    <tr>\n",
       "      <th>805</th>\n",
       "      <td>3.75</td>\n",
       "      <td>3.80</td>\n",
       "    </tr>\n",
       "    <tr>\n",
       "      <th>2232</th>\n",
       "      <td>4.33</td>\n",
       "      <td>4.45</td>\n",
       "    </tr>\n",
       "    <tr>\n",
       "      <th>1986</th>\n",
       "      <td>3.59</td>\n",
       "      <td>3.51</td>\n",
       "    </tr>\n",
       "    <tr>\n",
       "      <th>31</th>\n",
       "      <td>5.05</td>\n",
       "      <td>5.03</td>\n",
       "    </tr>\n",
       "    <tr>\n",
       "      <th>8</th>\n",
       "      <td>5.02</td>\n",
       "      <td>5.01</td>\n",
       "    </tr>\n",
       "    <tr>\n",
       "      <th>3482</th>\n",
       "      <td>4.54</td>\n",
       "      <td>4.48</td>\n",
       "    </tr>\n",
       "    <tr>\n",
       "      <th>831</th>\n",
       "      <td>4.57</td>\n",
       "      <td>4.44</td>\n",
       "    </tr>\n",
       "    <tr>\n",
       "      <th>2196</th>\n",
       "      <td>1.79</td>\n",
       "      <td>1.81</td>\n",
       "    </tr>\n",
       "    <tr>\n",
       "      <th>2946</th>\n",
       "      <td>4.60</td>\n",
       "      <td>4.67</td>\n",
       "    </tr>\n",
       "    <tr>\n",
       "      <th>3223</th>\n",
       "      <td>4.15</td>\n",
       "      <td>4.22</td>\n",
       "    </tr>\n",
       "  </tbody>\n",
       "</table>\n",
       "</div>"
      ],
      "text/plain": [
       "      Actual  Predicted\n",
       "805     3.75       3.80\n",
       "2232    4.33       4.45\n",
       "1986    3.59       3.51\n",
       "31      5.05       5.03\n",
       "8       5.02       5.01\n",
       "3482    4.54       4.48\n",
       "831     4.57       4.44\n",
       "2196    1.79       1.81\n",
       "2946    4.60       4.67\n",
       "3223    4.15       4.22"
      ]
     },
     "execution_count": 67,
     "metadata": {},
     "output_type": "execute_result"
    }
   ],
   "source": [
    "# predictions on the test set\n",
    "pred = olsmod2.predict(x_test2)\n",
    "\n",
    "df_pred_test = pd.DataFrame({\"Actual\": y_test, \"Predicted\": pred})\n",
    "df_pred_test.sample(10, random_state=1)"
   ]
  },
  {
   "cell_type": "code",
   "execution_count": 68,
   "metadata": {},
   "outputs": [
    {
     "data": {
      "text/html": [
       "<div>\n",
       "<style scoped>\n",
       "    .dataframe tbody tr th:only-of-type {\n",
       "        vertical-align: middle;\n",
       "    }\n",
       "\n",
       "    .dataframe tbody tr th {\n",
       "        vertical-align: top;\n",
       "    }\n",
       "\n",
       "    .dataframe thead th {\n",
       "        text-align: right;\n",
       "    }\n",
       "</style>\n",
       "<table border=\"1\" class=\"dataframe\">\n",
       "  <thead>\n",
       "    <tr style=\"text-align: right;\">\n",
       "      <th></th>\n",
       "      <th>Actual</th>\n",
       "      <th>Predicted</th>\n",
       "      <th>Difference</th>\n",
       "      <th>Difference (%)</th>\n",
       "    </tr>\n",
       "  </thead>\n",
       "  <tbody>\n",
       "    <tr>\n",
       "      <th>805</th>\n",
       "      <td>42.69</td>\n",
       "      <td>44.75</td>\n",
       "      <td>2.06</td>\n",
       "      <td>4.84</td>\n",
       "    </tr>\n",
       "    <tr>\n",
       "      <th>2232</th>\n",
       "      <td>75.58</td>\n",
       "      <td>85.32</td>\n",
       "      <td>9.74</td>\n",
       "      <td>12.89</td>\n",
       "    </tr>\n",
       "    <tr>\n",
       "      <th>1986</th>\n",
       "      <td>36.12</td>\n",
       "      <td>33.37</td>\n",
       "      <td>-2.75</td>\n",
       "      <td>-7.62</td>\n",
       "    </tr>\n",
       "    <tr>\n",
       "      <th>31</th>\n",
       "      <td>155.34</td>\n",
       "      <td>152.52</td>\n",
       "      <td>-2.82</td>\n",
       "      <td>-1.82</td>\n",
       "    </tr>\n",
       "    <tr>\n",
       "      <th>8</th>\n",
       "      <td>150.88</td>\n",
       "      <td>149.81</td>\n",
       "      <td>-1.07</td>\n",
       "      <td>-0.71</td>\n",
       "    </tr>\n",
       "    <tr>\n",
       "      <th>3482</th>\n",
       "      <td>93.86</td>\n",
       "      <td>88.61</td>\n",
       "      <td>-5.25</td>\n",
       "      <td>-5.59</td>\n",
       "    </tr>\n",
       "    <tr>\n",
       "      <th>831</th>\n",
       "      <td>96.51</td>\n",
       "      <td>84.95</td>\n",
       "      <td>-11.56</td>\n",
       "      <td>-11.97</td>\n",
       "    </tr>\n",
       "    <tr>\n",
       "      <th>2196</th>\n",
       "      <td>5.97</td>\n",
       "      <td>6.13</td>\n",
       "      <td>0.16</td>\n",
       "      <td>2.76</td>\n",
       "    </tr>\n",
       "    <tr>\n",
       "      <th>2946</th>\n",
       "      <td>99.86</td>\n",
       "      <td>106.57</td>\n",
       "      <td>6.71</td>\n",
       "      <td>6.72</td>\n",
       "    </tr>\n",
       "    <tr>\n",
       "      <th>3223</th>\n",
       "      <td>63.68</td>\n",
       "      <td>67.92</td>\n",
       "      <td>4.24</td>\n",
       "      <td>6.66</td>\n",
       "    </tr>\n",
       "  </tbody>\n",
       "</table>\n",
       "</div>"
      ],
      "text/plain": [
       "      Actual  Predicted  Difference  Difference (%)\n",
       "805    42.69      44.75        2.06            4.84\n",
       "2232   75.58      85.32        9.74           12.89\n",
       "1986   36.12      33.37       -2.75           -7.62\n",
       "31    155.34     152.52       -2.82           -1.82\n",
       "8     150.88     149.81       -1.07           -0.71\n",
       "3482   93.86      88.61       -5.25           -5.59\n",
       "831    96.51      84.95      -11.56          -11.97\n",
       "2196    5.97       6.13        0.16            2.76\n",
       "2946   99.86     106.57        6.71            6.72\n",
       "3223   63.68      67.92        4.24            6.66"
      ]
     },
     "execution_count": 68,
     "metadata": {},
     "output_type": "execute_result"
    }
   ],
   "source": [
    "#the same set of actual versus predicted values transformed back into euros\n",
    "df_pred_test = pd.DataFrame({\"Actual\": np.exp(y_test), \"Predicted\": np.exp(pred), \n",
    "                             \"Difference\": np.exp(pred)-np.exp(y_test), \n",
    "                             \"Difference (%)\": (np.exp(pred)-np.exp(y_test))*100/np.exp(y_test)})\n",
    "df_pred_test.sample(10, random_state=1)"
   ]
  },
  {
   "cell_type": "markdown",
   "metadata": {},
   "source": [
    "- We can observe that some predictions are close or very close to actual values, with 8 out of the 10 predicted values within 10 percent of the actual value"
   ]
  },
  {
   "cell_type": "code",
   "execution_count": 69,
   "metadata": {},
   "outputs": [],
   "source": [
    "# function to compute adjusted R-squared\n",
    "def adj_r2_score(predictors, targets, predictions):\n",
    "    r2 = r2_score(targets, predictions)\n",
    "    n = predictors.shape[0]\n",
    "    k = predictors.shape[1]\n",
    "    return 1 - ((1 - r2) * (n - 1) / (n - k - 1))\n",
    "\n",
    "\n",
    "# function to compute MAPE\n",
    "def mape_score(targets, predictions):\n",
    "    return np.mean(np.abs(targets - predictions) / targets) * 100\n",
    "\n",
    "\n",
    "# function to compute different metrics to check performance of a regression model\n",
    "def model_performance_regression(model, predictors, target):\n",
    "    \"\"\"\n",
    "    Function to compute different metrics to check regression model performance\n",
    "\n",
    "    model: regressor\n",
    "    predictors: independent variables\n",
    "    target: dependent variable\n",
    "    \"\"\"\n",
    "\n",
    "    # predicting using the independent variables\n",
    "    pred = model.predict(predictors)\n",
    "\n",
    "    r2 = r2_score(target, pred)  # to compute R-squared\n",
    "    adjr2 = adj_r2_score(predictors, target, pred)  # to compute adjusted R-squared\n",
    "    rmse = np.sqrt(mean_squared_error(target, pred))  # to compute RMSE\n",
    "    mae = mean_absolute_error(target, pred)  # to compute MAE\n",
    "    mape = mape_score(target, pred)  # to compute MAPE\n",
    "\n",
    "    # creating a dataframe of metrics\n",
    "    df_perf = pd.DataFrame(\n",
    "        {\n",
    "            \"RMSE\": rmse,\n",
    "            \"MAE\": mae,\n",
    "            \"R-squared\": r2,\n",
    "            \"Adj. R-squared\": adjr2,\n",
    "            \"MAPE\": mape,\n",
    "        },\n",
    "        index=[0],\n",
    "    )\n",
    "\n",
    "    return df_perf"
   ]
  },
  {
   "cell_type": "code",
   "execution_count": 70,
   "metadata": {},
   "outputs": [
    {
     "name": "stdout",
     "output_type": "stream",
     "text": [
      "Training Performance\n"
     ]
    },
    {
     "data": {
      "text/html": [
       "<div>\n",
       "<style scoped>\n",
       "    .dataframe tbody tr th:only-of-type {\n",
       "        vertical-align: middle;\n",
       "    }\n",
       "\n",
       "    .dataframe tbody tr th {\n",
       "        vertical-align: top;\n",
       "    }\n",
       "\n",
       "    .dataframe thead th {\n",
       "        text-align: right;\n",
       "    }\n",
       "</style>\n",
       "<table border=\"1\" class=\"dataframe\">\n",
       "  <thead>\n",
       "    <tr style=\"text-align: right;\">\n",
       "      <th></th>\n",
       "      <th>RMSE</th>\n",
       "      <th>MAE</th>\n",
       "      <th>R-squared</th>\n",
       "      <th>Adj. R-squared</th>\n",
       "      <th>MAPE</th>\n",
       "    </tr>\n",
       "  </thead>\n",
       "  <tbody>\n",
       "    <tr>\n",
       "      <th>0</th>\n",
       "      <td>0.08</td>\n",
       "      <td>0.07</td>\n",
       "      <td>0.99</td>\n",
       "      <td>0.99</td>\n",
       "      <td>1.74</td>\n",
       "    </tr>\n",
       "  </tbody>\n",
       "</table>\n",
       "</div>"
      ],
      "text/plain": [
       "   RMSE  MAE  R-squared  Adj. R-squared  MAPE\n",
       "0  0.08 0.07       0.99            0.99  1.74"
      ]
     },
     "execution_count": 70,
     "metadata": {},
     "output_type": "execute_result"
    }
   ],
   "source": [
    "# checking model performance on train set (seen 70% data)\n",
    "print(\"Training Performance\")\n",
    "olsmod2_train_perf = model_performance_regression(olsmod2, x_train2, y_train)\n",
    "olsmod2_train_perf"
   ]
  },
  {
   "cell_type": "code",
   "execution_count": 71,
   "metadata": {},
   "outputs": [
    {
     "name": "stdout",
     "output_type": "stream",
     "text": [
      "Test Performance\n"
     ]
    },
    {
     "data": {
      "text/html": [
       "<div>\n",
       "<style scoped>\n",
       "    .dataframe tbody tr th:only-of-type {\n",
       "        vertical-align: middle;\n",
       "    }\n",
       "\n",
       "    .dataframe tbody tr th {\n",
       "        vertical-align: top;\n",
       "    }\n",
       "\n",
       "    .dataframe thead th {\n",
       "        text-align: right;\n",
       "    }\n",
       "</style>\n",
       "<table border=\"1\" class=\"dataframe\">\n",
       "  <thead>\n",
       "    <tr style=\"text-align: right;\">\n",
       "      <th></th>\n",
       "      <th>RMSE</th>\n",
       "      <th>MAE</th>\n",
       "      <th>R-squared</th>\n",
       "      <th>Adj. R-squared</th>\n",
       "      <th>MAPE</th>\n",
       "    </tr>\n",
       "  </thead>\n",
       "  <tbody>\n",
       "    <tr>\n",
       "      <th>0</th>\n",
       "      <td>0.08</td>\n",
       "      <td>0.07</td>\n",
       "      <td>0.99</td>\n",
       "      <td>0.99</td>\n",
       "      <td>1.76</td>\n",
       "    </tr>\n",
       "  </tbody>\n",
       "</table>\n",
       "</div>"
      ],
      "text/plain": [
       "   RMSE  MAE  R-squared  Adj. R-squared  MAPE\n",
       "0  0.08 0.07       0.99            0.99  1.76"
      ]
     },
     "execution_count": 71,
     "metadata": {},
     "output_type": "execute_result"
    }
   ],
   "source": [
    "# checking model performance on test set (seen 30% data)\n",
    "print(\"Test Performance\")\n",
    "olsmod2_test_perf = model_performance_regression(olsmod2, x_test2, y_test)\n",
    "olsmod2_test_perf"
   ]
  },
  {
   "cell_type": "markdown",
   "metadata": {},
   "source": [
    "* The model is able to explain **~99%** of the variation in the test data\n",
    "\n",
    "* The train and test RMSE and MAE are low and comparable. So, our model is not suffering from overfitting\n",
    "\n",
    "* The MAPE on the test set suggests we can predict within **1.8%** of *np_log*\n",
    "\n",
    "* Hence, we can conclude the model *olsmod2* is very good for prediction as well as inference purposes"
   ]
  },
  {
   "cell_type": "code",
   "execution_count": 72,
   "metadata": {},
   "outputs": [
    {
     "name": "stdout",
     "output_type": "stream",
     "text": [
      "                            OLS Regression Results                            \n",
      "==============================================================================\n",
      "Dep. Variable:               used_log   R-squared:                       0.989\n",
      "Model:                            OLS   Adj. R-squared:                  0.988\n",
      "Method:                 Least Squares   F-statistic:                 2.911e+04\n",
      "Date:                Fri, 22 Oct 2021   Prob (F-statistic):               0.00\n",
      "Time:                        15:32:56   Log-Likelihood:                 2167.1\n",
      "No. Observations:                2034   AIC:                            -4320.\n",
      "Df Residuals:                    2027   BIC:                            -4281.\n",
      "Df Model:                           6                                         \n",
      "Covariance Type:            nonrobust                                         \n",
      "================================================================================================\n",
      "                                   coef    std err          t      P>|t|      [0.025      0.975]\n",
      "------------------------------------------------------------------------------------------------\n",
      "const                          -12.2334      2.462     -4.970      0.000     -17.061      -7.406\n",
      "release_year                     0.0060      0.001      4.932      0.000       0.004       0.008\n",
      "days_used                       -0.0011   1.11e-05    -99.425      0.000      -0.001      -0.001\n",
      "new_log                          0.9935      0.003    340.475      0.000       0.988       0.999\n",
      "5g_yes                           0.0351      0.014      2.507      0.012       0.008       0.063\n",
      "country_of_brand_South Korea     0.0099      0.005      1.961      0.050    6.38e-07       0.020\n",
      "country_of_brand_Taiwan          0.0140      0.007      2.066      0.039       0.001       0.027\n",
      "==============================================================================\n",
      "Omnibus:                       57.718   Durbin-Watson:                   1.959\n",
      "Prob(Omnibus):                  0.000   Jarque-Bera (JB):               61.439\n",
      "Skew:                          -0.416   Prob(JB):                     4.56e-14\n",
      "Kurtosis:                       2.820   Cond. No.                     2.84e+06\n",
      "==============================================================================\n",
      "\n",
      "Notes:\n",
      "[1] Standard Errors assume that the covariance matrix of the errors is correctly specified.\n",
      "[2] The condition number is large, 2.84e+06. This might indicate that there are\n",
      "strong multicollinearity or other numerical problems.\n"
     ]
    }
   ],
   "source": [
    "olsmodel_final = sm.OLS(y_train, x_train2).fit()\n",
    "print(olsmodel_final.summary())"
   ]
  },
  {
   "cell_type": "markdown",
   "metadata": {},
   "source": [
    "**Note**: the predictor variable *days_used* above should be negative (as in results shown above), but the transformation from normal back into log-normal does not allow for negatives "
   ]
  },
  {
   "cell_type": "code",
   "execution_count": 73,
   "metadata": {},
   "outputs": [
    {
     "data": {
      "text/html": [
       "<div>\n",
       "<style scoped>\n",
       "    .dataframe tbody tr th:only-of-type {\n",
       "        vertical-align: middle;\n",
       "    }\n",
       "\n",
       "    .dataframe tbody tr th {\n",
       "        vertical-align: top;\n",
       "    }\n",
       "\n",
       "    .dataframe thead th {\n",
       "        text-align: right;\n",
       "    }\n",
       "</style>\n",
       "<table border=\"1\" class=\"dataframe\">\n",
       "  <thead>\n",
       "    <tr style=\"text-align: right;\">\n",
       "      <th></th>\n",
       "      <th>count</th>\n",
       "      <th>mean</th>\n",
       "      <th>std</th>\n",
       "      <th>min</th>\n",
       "      <th>25%</th>\n",
       "      <th>50%</th>\n",
       "      <th>75%</th>\n",
       "      <th>max</th>\n",
       "    </tr>\n",
       "  </thead>\n",
       "  <tbody>\n",
       "    <tr>\n",
       "      <th>release_year</th>\n",
       "      <td>2907.00</td>\n",
       "      <td>2015.66</td>\n",
       "      <td>2.15</td>\n",
       "      <td>2013.00</td>\n",
       "      <td>2014.00</td>\n",
       "      <td>2015.00</td>\n",
       "      <td>2017.00</td>\n",
       "      <td>2020.00</td>\n",
       "    </tr>\n",
       "    <tr>\n",
       "      <th>days_used</th>\n",
       "      <td>2907.00</td>\n",
       "      <td>707.58</td>\n",
       "      <td>233.08</td>\n",
       "      <td>91.00</td>\n",
       "      <td>573.00</td>\n",
       "      <td>715.00</td>\n",
       "      <td>888.00</td>\n",
       "      <td>1094.00</td>\n",
       "    </tr>\n",
       "    <tr>\n",
       "      <th>new_log</th>\n",
       "      <td>2907.00</td>\n",
       "      <td>5.14</td>\n",
       "      <td>0.68</td>\n",
       "      <td>2.29</td>\n",
       "      <td>4.71</td>\n",
       "      <td>5.14</td>\n",
       "      <td>5.58</td>\n",
       "      <td>7.47</td>\n",
       "    </tr>\n",
       "  </tbody>\n",
       "</table>\n",
       "</div>"
      ],
      "text/plain": [
       "               count    mean    std     min     25%     50%     75%     max\n",
       "release_year 2907.00 2015.66   2.15 2013.00 2014.00 2015.00 2017.00 2020.00\n",
       "days_used    2907.00  707.58 233.08   91.00  573.00  715.00  888.00 1094.00\n",
       "new_log      2907.00    5.14   0.68    2.29    4.71    5.14    5.58    7.47"
      ]
     },
     "execution_count": 73,
     "metadata": {},
     "output_type": "execute_result"
    }
   ],
   "source": [
    "df_model[['release_year','days_used','new_log']].describe().T"
   ]
  },
  {
   "cell_type": "markdown",
   "metadata": {},
   "source": [
    "## Conclusions\n",
    "Transforming the new price and used price for a phone from an assume log-normal distribution to a normal distribution complicates the interpretation of the model's results:\n",
    "* The new price of a phone would need to be logarithmically transformed prior to being fed into the model\n",
    "* Due to the nature of a log-normal distribution, the model would need inputs for all four variables prior to determining how much changing one variable would effect the *used_log* value predicted by the model\n",
    "* The *used_log* predicted by the model would need to be transformed back into *used_price* to be interpreted as an amount in euros\n",
    "\n",
    "However, some conclusions can be drawn from parameters above:\n",
    "* Decreasing the *release_year* and increasing the number of *days_used* are shown to decrease the predicted used price of a phone\n",
    "* Increasing the new price of a phone (and the resulting *new_log* value fed into the model) is shown to increase the predicted used price of that phone\n",
    "* Having a phone with 5g will increase a phone's used price predicted by the model\n",
    "* Having a phone of a brand from either South Korea or Taiwan will increase a phone's used price predicted by the model"
   ]
  },
  {
   "cell_type": "code",
   "execution_count": null,
   "metadata": {},
   "outputs": [],
   "source": []
  }
 ],
 "metadata": {
  "kernelspec": {
   "display_name": "Python 3",
   "language": "python",
   "name": "python3"
  },
  "language_info": {
   "codemirror_mode": {
    "name": "ipython",
    "version": 3
   },
   "file_extension": ".py",
   "mimetype": "text/x-python",
   "name": "python",
   "nbconvert_exporter": "python",
   "pygments_lexer": "ipython3",
   "version": "3.7.6"
  }
 },
 "nbformat": 4,
 "nbformat_minor": 4
}
